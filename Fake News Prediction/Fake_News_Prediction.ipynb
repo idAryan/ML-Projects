{
  "nbformat": 4,
  "nbformat_minor": 0,
  "metadata": {
    "colab": {
      "provenance": [],
      "authorship_tag": "ABX9TyNoYnJwcwx3Eg0JduowcPen",
      "include_colab_link": true
    },
    "kernelspec": {
      "name": "python3",
      "display_name": "Python 3"
    },
    "language_info": {
      "name": "python"
    }
  },
  "cells": [
    {
      "cell_type": "markdown",
      "metadata": {
        "id": "view-in-github",
        "colab_type": "text"
      },
      "source": [
        "<a href=\"https://colab.research.google.com/github/idAryan/ML-Projects/blob/main/Fake%20News%20Prediction/Fake_News_Prediction.ipynb\" target=\"_parent\"><img src=\"https://colab.research.google.com/assets/colab-badge.svg\" alt=\"Open In Colab\"/></a>"
      ]
    },
    {
      "cell_type": "markdown",
      "source": [
        "About the dataset:\n",
        "id: Unique id for news article\n",
        "title: the title of news article\n",
        "author: author of the news article\n",
        "text: the text article could be incomplete\n",
        "label: a label that marks whether the news article is real or fake\n",
        "\n",
        "\n",
        "1: fake news\n",
        "\n",
        "2: real news"
      ],
      "metadata": {
        "id": "rcHl0lKoLD32"
      }
    },
    {
      "cell_type": "markdown",
      "source": [
        "Importing the dependencies"
      ],
      "metadata": {
        "id": "WWXIWkKBLbTn"
      }
    },
    {
      "cell_type": "code",
      "execution_count": 37,
      "metadata": {
        "id": "SwKlYZMAKH6f"
      },
      "outputs": [],
      "source": [
        "import numpy as np\n",
        "import pandas as pd\n",
        "import re\n",
        "import nltk.corpus\n",
        "from nltk.corpus import stopwords\n",
        "from nltk.stem.porter import PorterStemmer\n",
        "from sklearn.feature_extraction.text import TfidfVectorizer\n",
        "from sklearn.model_selection import train_test_split\n",
        "from sklearn.linear_model import LogisticRegression\n",
        "from sklearn.metrics import accuracy_score"
      ]
    },
    {
      "cell_type": "code",
      "source": [
        "import nltk\n",
        "nltk.download('stopwords')"
      ],
      "metadata": {
        "colab": {
          "base_uri": "https://localhost:8080/"
        },
        "id": "aga6zxGkMTTC",
        "outputId": "19cc76ba-9fbb-4faa-9e87-c82bd0f266cd"
      },
      "execution_count": 38,
      "outputs": [
        {
          "output_type": "stream",
          "name": "stderr",
          "text": [
            "[nltk_data] Downloading package stopwords to /root/nltk_data...\n",
            "[nltk_data]   Package stopwords is already up-to-date!\n"
          ]
        },
        {
          "output_type": "execute_result",
          "data": {
            "text/plain": [
              "True"
            ]
          },
          "metadata": {},
          "execution_count": 38
        }
      ]
    },
    {
      "cell_type": "code",
      "source": [
        "# printing the stop words in english\n",
        "print(stopwords.words('english'))"
      ],
      "metadata": {
        "colab": {
          "base_uri": "https://localhost:8080/"
        },
        "id": "zsVQQXtVNAp9",
        "outputId": "164aac1d-815d-47a6-9583-ac36722248ce"
      },
      "execution_count": 39,
      "outputs": [
        {
          "output_type": "stream",
          "name": "stdout",
          "text": [
            "['i', 'me', 'my', 'myself', 'we', 'our', 'ours', 'ourselves', 'you', \"you're\", \"you've\", \"you'll\", \"you'd\", 'your', 'yours', 'yourself', 'yourselves', 'he', 'him', 'his', 'himself', 'she', \"she's\", 'her', 'hers', 'herself', 'it', \"it's\", 'its', 'itself', 'they', 'them', 'their', 'theirs', 'themselves', 'what', 'which', 'who', 'whom', 'this', 'that', \"that'll\", 'these', 'those', 'am', 'is', 'are', 'was', 'were', 'be', 'been', 'being', 'have', 'has', 'had', 'having', 'do', 'does', 'did', 'doing', 'a', 'an', 'the', 'and', 'but', 'if', 'or', 'because', 'as', 'until', 'while', 'of', 'at', 'by', 'for', 'with', 'about', 'against', 'between', 'into', 'through', 'during', 'before', 'after', 'above', 'below', 'to', 'from', 'up', 'down', 'in', 'out', 'on', 'off', 'over', 'under', 'again', 'further', 'then', 'once', 'here', 'there', 'when', 'where', 'why', 'how', 'all', 'any', 'both', 'each', 'few', 'more', 'most', 'other', 'some', 'such', 'no', 'nor', 'not', 'only', 'own', 'same', 'so', 'than', 'too', 'very', 's', 't', 'can', 'will', 'just', 'don', \"don't\", 'should', \"should've\", 'now', 'd', 'll', 'm', 'o', 're', 've', 'y', 'ain', 'aren', \"aren't\", 'couldn', \"couldn't\", 'didn', \"didn't\", 'doesn', \"doesn't\", 'hadn', \"hadn't\", 'hasn', \"hasn't\", 'haven', \"haven't\", 'isn', \"isn't\", 'ma', 'mightn', \"mightn't\", 'mustn', \"mustn't\", 'needn', \"needn't\", 'shan', \"shan't\", 'shouldn', \"shouldn't\", 'wasn', \"wasn't\", 'weren', \"weren't\", 'won', \"won't\", 'wouldn', \"wouldn't\"]\n"
          ]
        }
      ]
    },
    {
      "cell_type": "markdown",
      "source": [
        "Data Pre-Processing"
      ],
      "metadata": {
        "id": "2eWYMQQfNXN0"
      }
    },
    {
      "cell_type": "code",
      "source": [
        "import pandas as pd\n",
        "\n",
        "# Skip bad lines and print a warning\n",
        "news_dataset = pd.read_csv('/content/train.csv', encoding='iso-8859-1', on_bad_lines='warn')"
      ],
      "metadata": {
        "colab": {
          "base_uri": "https://localhost:8080/"
        },
        "id": "-iBW4f2ZNGkv",
        "outputId": "b53b7172-856e-4001-d30e-6ece5a5edac6"
      },
      "execution_count": 40,
      "outputs": [
        {
          "output_type": "stream",
          "name": "stderr",
          "text": [
            "Skipping line 4769: expected 5 fields, saw 7\n",
            "Skipping line 20203: expected 5 fields, saw 8\n",
            "Skipping line 20206: expected 5 fields, saw 6\n",
            "Skipping line 20225: expected 5 fields, saw 8\n",
            "Skipping line 20227: expected 5 fields, saw 8\n",
            "Skipping line 20235: expected 5 fields, saw 7\n",
            "Skipping line 20236: expected 5 fields, saw 6\n",
            "Skipping line 23952: expected 5 fields, saw 11\n",
            "Skipping line 23953: expected 5 fields, saw 7\n",
            "Skipping line 23955: expected 5 fields, saw 13\n",
            "Skipping line 23957: expected 5 fields, saw 6\n",
            "Skipping line 23958: expected 5 fields, saw 7\n",
            "Skipping line 23960: expected 5 fields, saw 7\n",
            "Skipping line 23963: expected 5 fields, saw 6\n",
            "Skipping line 23968: expected 5 fields, saw 15\n",
            "Skipping line 23973: expected 5 fields, saw 12\n",
            "Skipping line 23974: expected 5 fields, saw 10\n",
            "Skipping line 23977: expected 5 fields, saw 6\n",
            "Skipping line 23983: expected 5 fields, saw 6\n",
            "Skipping line 23992: expected 5 fields, saw 7\n",
            "Skipping line 23996: expected 5 fields, saw 6\n",
            "Skipping line 23998: expected 5 fields, saw 14\n",
            "\n"
          ]
        }
      ]
    },
    {
      "cell_type": "code",
      "source": [
        "news_dataset.shape"
      ],
      "metadata": {
        "id": "pUM2wEkHNsTi",
        "colab": {
          "base_uri": "https://localhost:8080/"
        },
        "outputId": "9748db4a-ea0b-4277-f033-332eea7d37e2"
      },
      "execution_count": 41,
      "outputs": [
        {
          "output_type": "execute_result",
          "data": {
            "text/plain": [
              "(32949, 5)"
            ]
          },
          "metadata": {},
          "execution_count": 41
        }
      ]
    },
    {
      "cell_type": "code",
      "source": [
        "# print the first 5 rows of the dataframe\n",
        "news_dataset.head()"
      ],
      "metadata": {
        "colab": {
          "base_uri": "https://localhost:8080/",
          "height": 293
        },
        "id": "FEDasYt0KAiA",
        "outputId": "e60e7459-ed76-453f-e419-98592f373aea"
      },
      "execution_count": 42,
      "outputs": [
        {
          "output_type": "execute_result",
          "data": {
            "text/plain": [
              "  id                                              title              author  \\\n",
              "0  0  House Dem Aide: We Didnât Even See Comeyâs...       Darrell Lucus   \n",
              "1  1  FLYNN: Hillary Clinton, Big Woman on Campus - ...     Daniel J. Flynn   \n",
              "2  2                  Why the Truth Might Get You Fired  Consortiumnews.com   \n",
              "3  3  15 Civilians Killed In Single US Airstrike Hav...     Jessica Purkiss   \n",
              "4  4  Iranian woman jailed for fictional unpublished...      Howard Portnoy   \n",
              "\n",
              "                                                text label  \n",
              "0  House Dem Aide: We Didnât Even See Comeyâs...     1  \n",
              "1  Ever get the feeling your life circles the rou...     0  \n",
              "2  Why the Truth Might Get You Fired October 29, ...     1  \n",
              "3  Videos 15 Civilians Killed In Single US Airstr...     1  \n",
              "4  Print \\nAn Iranian woman has been sentenced to...     1  "
            ],
            "text/html": [
              "\n",
              "  <div id=\"df-ed4ec913-e288-47a3-ad61-f187377d1906\" class=\"colab-df-container\">\n",
              "    <div>\n",
              "<style scoped>\n",
              "    .dataframe tbody tr th:only-of-type {\n",
              "        vertical-align: middle;\n",
              "    }\n",
              "\n",
              "    .dataframe tbody tr th {\n",
              "        vertical-align: top;\n",
              "    }\n",
              "\n",
              "    .dataframe thead th {\n",
              "        text-align: right;\n",
              "    }\n",
              "</style>\n",
              "<table border=\"1\" class=\"dataframe\">\n",
              "  <thead>\n",
              "    <tr style=\"text-align: right;\">\n",
              "      <th></th>\n",
              "      <th>id</th>\n",
              "      <th>title</th>\n",
              "      <th>author</th>\n",
              "      <th>text</th>\n",
              "      <th>label</th>\n",
              "    </tr>\n",
              "  </thead>\n",
              "  <tbody>\n",
              "    <tr>\n",
              "      <th>0</th>\n",
              "      <td>0</td>\n",
              "      <td>House Dem Aide: We Didnât Even See Comeyâs...</td>\n",
              "      <td>Darrell Lucus</td>\n",
              "      <td>House Dem Aide: We Didnât Even See Comeyâs...</td>\n",
              "      <td>1</td>\n",
              "    </tr>\n",
              "    <tr>\n",
              "      <th>1</th>\n",
              "      <td>1</td>\n",
              "      <td>FLYNN: Hillary Clinton, Big Woman on Campus - ...</td>\n",
              "      <td>Daniel J. Flynn</td>\n",
              "      <td>Ever get the feeling your life circles the rou...</td>\n",
              "      <td>0</td>\n",
              "    </tr>\n",
              "    <tr>\n",
              "      <th>2</th>\n",
              "      <td>2</td>\n",
              "      <td>Why the Truth Might Get You Fired</td>\n",
              "      <td>Consortiumnews.com</td>\n",
              "      <td>Why the Truth Might Get You Fired October 29, ...</td>\n",
              "      <td>1</td>\n",
              "    </tr>\n",
              "    <tr>\n",
              "      <th>3</th>\n",
              "      <td>3</td>\n",
              "      <td>15 Civilians Killed In Single US Airstrike Hav...</td>\n",
              "      <td>Jessica Purkiss</td>\n",
              "      <td>Videos 15 Civilians Killed In Single US Airstr...</td>\n",
              "      <td>1</td>\n",
              "    </tr>\n",
              "    <tr>\n",
              "      <th>4</th>\n",
              "      <td>4</td>\n",
              "      <td>Iranian woman jailed for fictional unpublished...</td>\n",
              "      <td>Howard Portnoy</td>\n",
              "      <td>Print \\nAn Iranian woman has been sentenced to...</td>\n",
              "      <td>1</td>\n",
              "    </tr>\n",
              "  </tbody>\n",
              "</table>\n",
              "</div>\n",
              "    <div class=\"colab-df-buttons\">\n",
              "\n",
              "  <div class=\"colab-df-container\">\n",
              "    <button class=\"colab-df-convert\" onclick=\"convertToInteractive('df-ed4ec913-e288-47a3-ad61-f187377d1906')\"\n",
              "            title=\"Convert this dataframe to an interactive table.\"\n",
              "            style=\"display:none;\">\n",
              "\n",
              "  <svg xmlns=\"http://www.w3.org/2000/svg\" height=\"24px\" viewBox=\"0 -960 960 960\">\n",
              "    <path d=\"M120-120v-720h720v720H120Zm60-500h600v-160H180v160Zm220 220h160v-160H400v160Zm0 220h160v-160H400v160ZM180-400h160v-160H180v160Zm440 0h160v-160H620v160ZM180-180h160v-160H180v160Zm440 0h160v-160H620v160Z\"/>\n",
              "  </svg>\n",
              "    </button>\n",
              "\n",
              "  <style>\n",
              "    .colab-df-container {\n",
              "      display:flex;\n",
              "      gap: 12px;\n",
              "    }\n",
              "\n",
              "    .colab-df-convert {\n",
              "      background-color: #E8F0FE;\n",
              "      border: none;\n",
              "      border-radius: 50%;\n",
              "      cursor: pointer;\n",
              "      display: none;\n",
              "      fill: #1967D2;\n",
              "      height: 32px;\n",
              "      padding: 0 0 0 0;\n",
              "      width: 32px;\n",
              "    }\n",
              "\n",
              "    .colab-df-convert:hover {\n",
              "      background-color: #E2EBFA;\n",
              "      box-shadow: 0px 1px 2px rgba(60, 64, 67, 0.3), 0px 1px 3px 1px rgba(60, 64, 67, 0.15);\n",
              "      fill: #174EA6;\n",
              "    }\n",
              "\n",
              "    .colab-df-buttons div {\n",
              "      margin-bottom: 4px;\n",
              "    }\n",
              "\n",
              "    [theme=dark] .colab-df-convert {\n",
              "      background-color: #3B4455;\n",
              "      fill: #D2E3FC;\n",
              "    }\n",
              "\n",
              "    [theme=dark] .colab-df-convert:hover {\n",
              "      background-color: #434B5C;\n",
              "      box-shadow: 0px 1px 3px 1px rgba(0, 0, 0, 0.15);\n",
              "      filter: drop-shadow(0px 1px 2px rgba(0, 0, 0, 0.3));\n",
              "      fill: #FFFFFF;\n",
              "    }\n",
              "  </style>\n",
              "\n",
              "    <script>\n",
              "      const buttonEl =\n",
              "        document.querySelector('#df-ed4ec913-e288-47a3-ad61-f187377d1906 button.colab-df-convert');\n",
              "      buttonEl.style.display =\n",
              "        google.colab.kernel.accessAllowed ? 'block' : 'none';\n",
              "\n",
              "      async function convertToInteractive(key) {\n",
              "        const element = document.querySelector('#df-ed4ec913-e288-47a3-ad61-f187377d1906');\n",
              "        const dataTable =\n",
              "          await google.colab.kernel.invokeFunction('convertToInteractive',\n",
              "                                                    [key], {});\n",
              "        if (!dataTable) return;\n",
              "\n",
              "        const docLinkHtml = 'Like what you see? Visit the ' +\n",
              "          '<a target=\"_blank\" href=https://colab.research.google.com/notebooks/data_table.ipynb>data table notebook</a>'\n",
              "          + ' to learn more about interactive tables.';\n",
              "        element.innerHTML = '';\n",
              "        dataTable['output_type'] = 'display_data';\n",
              "        await google.colab.output.renderOutput(dataTable, element);\n",
              "        const docLink = document.createElement('div');\n",
              "        docLink.innerHTML = docLinkHtml;\n",
              "        element.appendChild(docLink);\n",
              "      }\n",
              "    </script>\n",
              "  </div>\n",
              "\n",
              "\n",
              "<div id=\"df-cd4b88c6-19c4-464b-9ae3-04bcdc1ee465\">\n",
              "  <button class=\"colab-df-quickchart\" onclick=\"quickchart('df-cd4b88c6-19c4-464b-9ae3-04bcdc1ee465')\"\n",
              "            title=\"Suggest charts\"\n",
              "            style=\"display:none;\">\n",
              "\n",
              "<svg xmlns=\"http://www.w3.org/2000/svg\" height=\"24px\"viewBox=\"0 0 24 24\"\n",
              "     width=\"24px\">\n",
              "    <g>\n",
              "        <path d=\"M19 3H5c-1.1 0-2 .9-2 2v14c0 1.1.9 2 2 2h14c1.1 0 2-.9 2-2V5c0-1.1-.9-2-2-2zM9 17H7v-7h2v7zm4 0h-2V7h2v10zm4 0h-2v-4h2v4z\"/>\n",
              "    </g>\n",
              "</svg>\n",
              "  </button>\n",
              "\n",
              "<style>\n",
              "  .colab-df-quickchart {\n",
              "      --bg-color: #E8F0FE;\n",
              "      --fill-color: #1967D2;\n",
              "      --hover-bg-color: #E2EBFA;\n",
              "      --hover-fill-color: #174EA6;\n",
              "      --disabled-fill-color: #AAA;\n",
              "      --disabled-bg-color: #DDD;\n",
              "  }\n",
              "\n",
              "  [theme=dark] .colab-df-quickchart {\n",
              "      --bg-color: #3B4455;\n",
              "      --fill-color: #D2E3FC;\n",
              "      --hover-bg-color: #434B5C;\n",
              "      --hover-fill-color: #FFFFFF;\n",
              "      --disabled-bg-color: #3B4455;\n",
              "      --disabled-fill-color: #666;\n",
              "  }\n",
              "\n",
              "  .colab-df-quickchart {\n",
              "    background-color: var(--bg-color);\n",
              "    border: none;\n",
              "    border-radius: 50%;\n",
              "    cursor: pointer;\n",
              "    display: none;\n",
              "    fill: var(--fill-color);\n",
              "    height: 32px;\n",
              "    padding: 0;\n",
              "    width: 32px;\n",
              "  }\n",
              "\n",
              "  .colab-df-quickchart:hover {\n",
              "    background-color: var(--hover-bg-color);\n",
              "    box-shadow: 0 1px 2px rgba(60, 64, 67, 0.3), 0 1px 3px 1px rgba(60, 64, 67, 0.15);\n",
              "    fill: var(--button-hover-fill-color);\n",
              "  }\n",
              "\n",
              "  .colab-df-quickchart-complete:disabled,\n",
              "  .colab-df-quickchart-complete:disabled:hover {\n",
              "    background-color: var(--disabled-bg-color);\n",
              "    fill: var(--disabled-fill-color);\n",
              "    box-shadow: none;\n",
              "  }\n",
              "\n",
              "  .colab-df-spinner {\n",
              "    border: 2px solid var(--fill-color);\n",
              "    border-color: transparent;\n",
              "    border-bottom-color: var(--fill-color);\n",
              "    animation:\n",
              "      spin 1s steps(1) infinite;\n",
              "  }\n",
              "\n",
              "  @keyframes spin {\n",
              "    0% {\n",
              "      border-color: transparent;\n",
              "      border-bottom-color: var(--fill-color);\n",
              "      border-left-color: var(--fill-color);\n",
              "    }\n",
              "    20% {\n",
              "      border-color: transparent;\n",
              "      border-left-color: var(--fill-color);\n",
              "      border-top-color: var(--fill-color);\n",
              "    }\n",
              "    30% {\n",
              "      border-color: transparent;\n",
              "      border-left-color: var(--fill-color);\n",
              "      border-top-color: var(--fill-color);\n",
              "      border-right-color: var(--fill-color);\n",
              "    }\n",
              "    40% {\n",
              "      border-color: transparent;\n",
              "      border-right-color: var(--fill-color);\n",
              "      border-top-color: var(--fill-color);\n",
              "    }\n",
              "    60% {\n",
              "      border-color: transparent;\n",
              "      border-right-color: var(--fill-color);\n",
              "    }\n",
              "    80% {\n",
              "      border-color: transparent;\n",
              "      border-right-color: var(--fill-color);\n",
              "      border-bottom-color: var(--fill-color);\n",
              "    }\n",
              "    90% {\n",
              "      border-color: transparent;\n",
              "      border-bottom-color: var(--fill-color);\n",
              "    }\n",
              "  }\n",
              "</style>\n",
              "\n",
              "  <script>\n",
              "    async function quickchart(key) {\n",
              "      const quickchartButtonEl =\n",
              "        document.querySelector('#' + key + ' button');\n",
              "      quickchartButtonEl.disabled = true;  // To prevent multiple clicks.\n",
              "      quickchartButtonEl.classList.add('colab-df-spinner');\n",
              "      try {\n",
              "        const charts = await google.colab.kernel.invokeFunction(\n",
              "            'suggestCharts', [key], {});\n",
              "      } catch (error) {\n",
              "        console.error('Error during call to suggestCharts:', error);\n",
              "      }\n",
              "      quickchartButtonEl.classList.remove('colab-df-spinner');\n",
              "      quickchartButtonEl.classList.add('colab-df-quickchart-complete');\n",
              "    }\n",
              "    (() => {\n",
              "      let quickchartButtonEl =\n",
              "        document.querySelector('#df-cd4b88c6-19c4-464b-9ae3-04bcdc1ee465 button');\n",
              "      quickchartButtonEl.style.display =\n",
              "        google.colab.kernel.accessAllowed ? 'block' : 'none';\n",
              "    })();\n",
              "  </script>\n",
              "</div>\n",
              "\n",
              "    </div>\n",
              "  </div>\n"
            ],
            "application/vnd.google.colaboratory.intrinsic+json": {
              "type": "dataframe",
              "variable_name": "news_dataset",
              "summary": "{\n  \"name\": \"news_dataset\",\n  \"rows\": 32949,\n  \"fields\": [\n    {\n      \"column\": \"id\",\n      \"properties\": {\n        \"dtype\": \"string\",\n        \"num_unique_values\": 20957,\n        \"samples\": [\n          \"16750\",\n          \"9394\",\n          \"14417\"\n        ],\n        \"semantic_type\": \"\",\n        \"description\": \"\"\n      }\n    },\n    {\n      \"column\": \"title\",\n      \"properties\": {\n        \"dtype\": \"string\",\n        \"num_unique_values\": 19884,\n        \"samples\": [\n          \"After Donald Trump, Will More Women Believe Their Own Stories? - The New York Times\",\n          \"\\u00e2\\u0080\\u009cIt\\u00e2\\u0080\\u0099s Only a Car!\\u00e2\\u0080\\u009d\",\n          \"Tiffany And Barron Mad At President-Elect Trump\"\n        ],\n        \"semantic_type\": \"\",\n        \"description\": \"\"\n      }\n    },\n    {\n      \"column\": \"author\",\n      \"properties\": {\n        \"dtype\": \"category\",\n        \"num_unique_values\": 4243,\n        \"samples\": [\n          \"Grady\",\n          \"thilliker2\",\n          \"Carolyn Ryan\"\n        ],\n        \"semantic_type\": \"\",\n        \"description\": \"\"\n      }\n    },\n    {\n      \"column\": \"text\",\n      \"properties\": {\n        \"dtype\": \"string\",\n        \"num_unique_values\": 20467,\n        \"samples\": [\n          \"NASHVILLE  \\u00e2\\u0080\\u0094   \\u00e2\\u0080\\u009cThe Bobby Bones Show\\u00e2\\u0080\\u009d is the biggest thing in country radio, on nearly 100 stations five mornings a week, and its ringleader, Mr. Bones, 36, likes to take credit for hastening the breakthroughs of a number of acts. Lately, he\\u00e2\\u0080\\u0099s been shining a light on a trend that he helped cultivate  \\u00e2\\u0080\\u0094   a resurgence of humor in country music, which has made modest hits of albums that let mainstream and alternative country fans feel as if they\\u00e2\\u0080\\u0099re in on the joke. For one week in February, \\u00e2\\u0080\\u009cRedneck ____\\u00e2\\u0080\\u009d by Wheeler Walker Jr. a provocative creation of the comedian Ben Hoffman, was both the No. 1 comedy album and the No. 9 country album. Granger Smith\\u00e2\\u0080\\u0099s \\u00e2\\u0080\\u009cRemington\\u00e2\\u0080\\u009d arrived a month later, featuring jokey numbers by his outsized alter ego, Earl Dibbles Jr. And Mr. Bones\\u00e2\\u0080\\u0099s own band, the Raging Idiots, a jocular duo that also features his show producer Eddie Garcia, recently released its first   album, \\u00e2\\u0080\\u009cThe Critics Give It Five Stars,\\u00e2\\u0080\\u009d which not only made its debut atop Billboard\\u00e2\\u0080\\u0099s comedy albums chart but landed at No. 4 on the country chart. Country music has never been devoid of comedy: The Grand Ole Opry once featured the winking, rustic humor of Minnie Pearl, Grandpa Jones and Stringbean the Statler Brothers cultivated the rube alter egos Lester Roadhog Moran  the Cadillac Cowboys and Alan Jackson cast the comic Jeff Foxworthy in a music video. But at least from an outside perspective, the flirtatious party jams dominating the format in recent years seemed to repel humor. Now country is generating new, knowing ways of poking fun at itself in song. Mike Dungan, the chairman and chief executive of Universal Music Group Nashville, noted that every country songwriting era has had wits like Roger Miller and Tom T. Hall. Brad Paisley has parlayed his drollness into a   gig as a host of the Country Music Association Awards and a new one as M. C. for the Wild West Comedy Festival in Nashville. \\u00e2\\u0080\\u009cI think it\\u00e2\\u0080\\u0099s always been there,\\u00e2\\u0080\\u009d Mr. Dungan said. \\u00e2\\u0080\\u009cHowever, I do believe that in tough times, people want to feel better. I think these types of songs are a really great   to what\\u00e2\\u0080\\u0099s going on in your life. \\u00e2\\u0080\\u009d Mr. Smith, 36, enlarged his audience by capitalizing on the contrast between Granger Smith, a country centrist with a temperate, conversational vocal style, and Earl Dibbles Jr. who packs his bottom lip with tobacco and spins vigorous, nonsensical yarns. The Dibbles persona struck viral gold with a string of YouTube videos. In gentle selections like \\u00e2\\u0080\\u009cTractor\\u00e2\\u0080\\u009d and \\u00e2\\u0080\\u009cTailgate Town,\\u00e2\\u0080\\u009d Mr. Smith sentimentalizes sturdy agrarian values. \\u00e2\\u0080\\u009cThat\\u00e2\\u0080\\u0099s probably the real Granger, if you will,\\u00e2\\u0080\\u009d he said. The deliberate exaggeration of the Dibbles material is best exemplified by \\u00e2\\u0080\\u009c\\u00e2\\u0080\\u0099Merica,\\u00e2\\u0080\\u009d with its   combination of M\\u00c3\\u00b6tley   riffs, banjo rolls and absurd patriotic bluster: \\u00e2\\u0080\\u009cWe\\u00e2\\u0080\\u0099re    undefeated world war   take a cup, raise it up for my Uncle Sam. \\u00e2\\u0080\\u009d Mr. Bones\\u00e2\\u0080\\u0099s fans have come to expect a similarly affectionate strain of irreverence. Growing up in rural Arkansas, he enjoyed the downhome clowning of Jerry Clower and Ray Stevens, but also liked Adam Sandler\\u00e2\\u0080\\u0099s sophomoric ditties. On the Raging Idiots album, he accentuated his own vocal limitations with guest performances from Carrie Underwood and Mr. Paisley. \\u00e2\\u0080\\u009cI don\\u00e2\\u0080\\u0099t want people to think I\\u00e2\\u0080\\u0099m trying to win best male vocalist at the C. M. A. s,\\u00e2\\u0080\\u009d Mr. Bones said, referring to the Country Music Association Awards. \\u00e2\\u0080\\u009cI can sing just good enough to be funny. \\u00e2\\u0080\\u009d After spending the first decade of his career in other radio formats and doing   comedy on the side, Mr. Bones\\u00e2\\u0080\\u0099s shift to anchoring a Nashville country station generated some skepticism. He and his   crew broke with the customary respectful strolls through   talking points. \\u00e2\\u0080\\u009cPeople didn\\u00e2\\u0080\\u0099t want to do the show, because they didn\\u00e2\\u0080\\u0099t know what I would ask,\\u00e2\\u0080\\u009d he said. Occasionally, Mr. Bones would encourage musicians to participate in daft parodies of their hits Florida Georgia Line and Dierks Bentley were among the many acts that obliged. As the show\\u00e2\\u0080\\u0099s ratings surged, Mr. Garcia and Mr. Bones brought their musical act to charity events. \\u00e2\\u0080\\u009cWe said if we hit a million bucks, we\\u00e2\\u0080\\u0099d try to do a comedy record,\\u00e2\\u0080\\u009d Mr. Bones said. They raised well past that. Wheeler Walker Jr. who draws an entirely different audience, has an origin story that positions him as a    outsider. To hear him tell it, he\\u00e2\\u0080\\u0099s been chewed up and spat out by every label in Nashville, ultimately recording a batch of obscene   and Southern rock numbers, the lyrics of each and every one unprintable. \\u00e2\\u0080\\u009cSome of them, this is just me spouting off bad words,\\u00e2\\u0080\\u009d he said, \\u00e2\\u0080\\u009cbut sometimes I use my brain a little bit more. \\u00e2\\u0080\\u009d (The character borrows choice autobiographical details  \\u00e2\\u0080\\u0094   like hailing from Kentucky  \\u00e2\\u0080\\u0094   from his creator, Mr. Hoffman, 41, who had a Comedy Central sketch show.) Having Dave Cobb, the Academy of Country Music\\u00e2\\u0080\\u0099s 2016 Producer of the Year, produce \\u00e2\\u0080\\u009cRedneck ____\\u00e2\\u0080\\u009d lent the project weight. Still, it required an unorthodox marketing plan, including partnering with a pornography site to preview the music. Wheeler Walker Jr. who gives interview in character, credited the album\\u00e2\\u0080\\u0099s theatrical bravado to his \\u00e2\\u0080\\u009c  aggression. \\u00e2\\u0080\\u009d When he recorded it, he said, he was fed up with \\u00e2\\u0080\\u009cmy love life, my work life, my family life, and I just let it all out. \\u00e2\\u0080\\u009cA lot of people are having those problems too,\\u00e2\\u0080\\u009d he continued, \\u00e2\\u0080\\u009cand they can listen to my album and it kind of gets it all out of their system. If you\\u00e2\\u0080\\u0099ve got those problems, Florida Georgia Line ain\\u00e2\\u0080\\u0099t gonna help,\\u00e2\\u0080\\u009d he added, referring to the duo who epitomize the \\u00e2\\u0080\\u009cbro country\\u00e2\\u0080\\u009d trend. By far the wittiest critique of bro country came from female voices striving for a mainstream hearing in 2014, when the   duo Maddie  Tae teasingly inverted bro country tropes with their debut single, \\u00e2\\u0080\\u009cGirl in a Country Song. \\u00e2\\u0080\\u009d \\u00e2\\u0080\\u009cI think that\\u00e2\\u0080\\u0099s what made the whole song, was the humor,\\u00e2\\u0080\\u009d Maddie Marlow said. \\u00e2\\u0080\\u009cWe didn\\u00e2\\u0080\\u0099t want people to think, \\u00e2\\u0080\\u0098Oh, they\\u00e2\\u0080\\u0099re just whining.\\u00e2\\u0080\\u0099 We want our point to get across, but also we want people to have fun and relate to it and laugh too. \\u00e2\\u0080\\u009d These days, cheekiness like Maddie  Tae\\u00e2\\u0080\\u0099s  \\u00e2\\u0080\\u0094   which resurfaced in their singles \\u00e2\\u0080\\u009cShut Up and Fish\\u00e2\\u0080\\u009d and \\u00e2\\u0080\\u009cSierra\\u00e2\\u0080\\u009d  \\u00e2\\u0080\\u0094   is much more common in country than outright comedy is. Luke Bryan is not only country\\u00e2\\u0080\\u0099s most popular entertainer but its biggest target for impersonations by other artists, thanks to his   grin and dance moves that play up the silly side of his sex appeal. \\u00e2\\u0080\\u009cHe recognizes that as part of what he does, he\\u00e2\\u0080\\u0099s going to draw a little bit of jabbing here and there,\\u00e2\\u0080\\u009d Mr. Dungan said. \\u00e2\\u0080\\u009cYes, there is a smile to almost everything he does, and I think that\\u00e2\\u0080\\u0099s why he resonates so well. \\u00e2\\u0080\\u009d The Raging Idiots have a bit called \\u00e2\\u0080\\u009cFake Luke Bryan,\\u00e2\\u0080\\u009d in which Mr. Garcia apes Mr. Bryan\\u00e2\\u0080\\u0099s unflagging enthusiasm and glottal delivery. But Mr. Bones brushed off the notion that they would have sought the star\\u00e2\\u0080\\u0099s blessing before recording the shtick: \\u00e2\\u0080\\u009cI\\u00e2\\u0080\\u0099ve worked in alternative and pop and sports and  . This is by far the nicest,      format I\\u00e2\\u0080\\u0099ve been in. \\u00e2\\u0080\\u009d\",\n          \"A Florida mother is accused of giving alcohol to minors and having sex with five underage boys at her daughter\\u00e2\\u0080\\u0099s house party. [Jaimie Ayer, 40, of Bradenton, came home to her daughter\\u00e2\\u0080\\u0099s party December 23 and allegedly provided alcohol to the teenagers, the Daily Mail reported.  The woman eventually told a boy that she needed to shower and that he should help her, according to the arrest report. Her daughter and other   allegedly caught her later having sex in front of two teenage boys, ages 16 and 17. Three more boys have come forward alleging that Ayer had sex with them. Three of the five alleged victims are 16 years old. Ayer was arrested on three counts of unlawful sexual activity and now faces an additional four counts of that charge after the other boys came forward, the Miami Herald reported. Ayer appeared intoxicated when authorities apprehended her, said the arrest affidavit. She is being held on $22, 500 bond and remains in the Manatee County Jail.\",\n          \" 47 \\u00d0\\u009d\\u00d0\\u00b0 101 \\u00d0\\u00b3\\u00d0\\u00be\\u00d0\\u00b4\\u00d1\\u0083 \\u00d0\\u00b6\\u00d0\\u00b8\\u00d0\\u00b7\\u00d0\\u00bd\\u00d0\\u00b8 \\u00d1\\u0081\\u00d0\\u00ba\\u00d0\\u00be\\u00d0\\u00bd\\u00d1\\u0087\\u00d0\\u00b0\\u00d0\\u00bb\\u00d1\\u0081\\u00d1\\u008f \\u00d1\\u0081\\u00d1\\u0082\\u00d0\\u00b0\\u00d1\\u0080\\u00d0\\u00b5\\u00d0\\u00b9\\u00d1\\u0088\\u00d0\\u00b8\\u00d0\\u00b9 \\u00d1\\u0087\\u00d0\\u00bb\\u00d0\\u00b5\\u00d0\\u00bd \\u00d1\\u008f\\u00d0\\u00bf\\u00d0\\u00be\\u00d0\\u00bd\\u00d1\\u0081\\u00d0\\u00ba\\u00d0\\u00be\\u00d0\\u00b9 \\u00d0\\u00b8\\u00d0\\u00bc\\u00d0\\u00bf\\u00d0\\u00b5\\u00d1\\u0080\\u00d0\\u00b0\\u00d1\\u0082\\u00d0\\u00be\\u00d1\\u0080\\u00d1\\u0081\\u00d0\\u00ba\\u00d0\\u00be\\u00d0\\u00b9 \\u00d1\\u0081\\u00d0\\u00b5\\u00d0\\u00bc\\u00d1\\u008c\\u00d0\\u00b8 \\u00d0\\u00bf\\u00d1\\u0080\\u00d0\\u00b8\\u00d0\\u00bd\\u00d1\\u0086 \\u00d0\\u009c\\u00d0\\u00b8\\u00d0\\u00ba\\u00d0\\u00b0\\u00d1\\u0081\\u00d0\\u00b0 \\u00e2\\u0080\\u0094 \\u00d0\\u00b4\\u00d1\\u008f\\u00d0\\u00b4\\u00d1\\u008f \\u00d0\\u00bf\\u00d1\\u0080\\u00d0\\u00b0\\u00d0\\u00b2\\u00d1\\u008f\\u00d1\\u0089\\u00d0\\u00b5\\u00d0\\u00b3\\u00d0\\u00be \\u00d0\\u00b8\\u00d0\\u00bc\\u00d0\\u00bf\\u00d0\\u00b5\\u00d1\\u0080\\u00d0\\u00b0\\u00d1\\u0082\\u00d0\\u00be\\u00d1\\u0080\\u00d0\\u00b0 \\u00d0\\u00af\\u00d0\\u00bf\\u00d0\\u00be\\u00d0\\u00bd\\u00d0\\u00b8\\u00d0\\u00b8 \\u00d0\\u0090\\u00d0\\u00ba\\u00d0\\u00b8\\u00d1\\u0085\\u00d0\\u00b8\\u00d1\\u0082\\u00d0\\u00be. \\n\\u00d0\\u009f\\u00d0\\u00be\\u00d1\\u0081\\u00d0\\u00bb\\u00d0\\u00b5 \\u00d0\\u00b3\\u00d0\\u00be\\u00d1\\u0081\\u00d0\\u00bf\\u00d0\\u00b8\\u00d1\\u0082\\u00d0\\u00b0\\u00d0\\u00bb\\u00d0\\u00b8\\u00d0\\u00b7\\u00d0\\u00b0\\u00d1\\u0086\\u00d0\\u00b8\\u00d0\\u00b8 \\u00d1\\u0081 \\u00d0\\u00bf\\u00d0\\u00be\\u00d0\\u00b4\\u00d0\\u00be\\u00d0\\u00b7\\u00d1\\u0080\\u00d0\\u00b5\\u00d0\\u00bd\\u00d0\\u00b8\\u00d0\\u00b5\\u00d0\\u00bc \\u00d0\\u00bd\\u00d0\\u00b0 \\u00d0\\u00be\\u00d1\\u0081\\u00d1\\u0082\\u00d1\\u0080\\u00d0\\u00be\\u00d0\\u00b5 \\u00d0\\u00b2\\u00d0\\u00be\\u00d1\\u0081\\u00d0\\u00bf\\u00d0\\u00b0\\u00d0\\u00bb\\u00d0\\u00b5\\u00d0\\u00bd\\u00d0\\u00b8\\u00d0\\u00b5 \\u00d0\\u00bb\\u00d0\\u00b5\\u00d0\\u00b3\\u00d0\\u00ba\\u00d0\\u00b8\\u00d1\\u0085 \\u00d0\\u00b2 \\u00d1\\u0081\\u00d0\\u00b5\\u00d1\\u0080\\u00d0\\u00b5\\u00d0\\u00b4\\u00d0\\u00b8\\u00d0\\u00bd\\u00d0\\u00b5 \\u00d0\\u00bc\\u00d0\\u00b0\\u00d1\\u008f 2016 \\u00d0\\u00b3\\u00d0\\u00be\\u00d0\\u00b4\\u00d0\\u00b0, \\u00d0\\u00b1\\u00d1\\u0080\\u00d0\\u00b0\\u00d1\\u0082\\u00d0\\u00b0 \\u00d0\\u00b8\\u00d0\\u00bc\\u00d0\\u00bf\\u00d0\\u00b5\\u00d1\\u0080\\u00d0\\u00b0\\u00d1\\u0082\\u00d0\\u00be\\u00d1\\u0080\\u00d0\\u00b0 \\u00d0\\u00a5\\u00d0\\u00b8\\u00d1\\u0080\\u00d0\\u00be\\u00d1\\u0085\\u00d0\\u00b8\\u00d1\\u0082\\u00d0\\u00be \\u00d0\\u00bd\\u00d0\\u00b5 \\u00d1\\u0080\\u00d0\\u00b0\\u00d0\\u00b7 \\u00d0\\u00bf\\u00d0\\u00b5\\u00d1\\u0080\\u00d0\\u00b5\\u00d0\\u00b2\\u00d0\\u00be\\u00d0\\u00b4\\u00d0\\u00b8\\u00d0\\u00bb\\u00d0\\u00b8 \\u00d0\\u00b2 \\u00d0\\u00be\\u00d1\\u0082\\u00d0\\u00b4\\u00d0\\u00b5\\u00d0\\u00bb\\u00d0\\u00b5\\u00d0\\u00bd\\u00d0\\u00b8\\u00d0\\u00b5 \\u00d0\\u00b8\\u00d0\\u00bd\\u00d1\\u0082\\u00d0\\u00b5\\u00d0\\u00bd\\u00d1\\u0081\\u00d0\\u00b8\\u00d0\\u00b2\\u00d0\\u00bd\\u00d0\\u00be\\u00d0\\u00b9 \\u00d1\\u0082\\u00d0\\u00b5\\u00d1\\u0080\\u00d0\\u00b0\\u00d0\\u00bf\\u00d0\\u00b8\\u00d0\\u00b8 \\u00d0\\u00b2 \\u00d1\\u0081\\u00d0\\u00b2\\u00d1\\u008f\\u00d0\\u00b7\\u00d0\\u00b8 \\u00d1\\u0081 \\u00d1\\u0080\\u00d0\\u00b0\\u00d0\\u00b7\\u00d0\\u00bb\\u00d0\\u00b8\\u00d1\\u0087\\u00d0\\u00bd\\u00d1\\u008b\\u00d0\\u00bc\\u00d0\\u00b8 \\u00d0\\u00be\\u00d1\\u0081\\u00d0\\u00bb\\u00d0\\u00be\\u00d0\\u00b6\\u00d0\\u00bd\\u00d0\\u00b5\\u00d0\\u00bd\\u00d0\\u00b8\\u00d1\\u008f\\u00d0\\u00bc\\u00d0\\u00b8, \\u00d1\\u0081\\u00d0\\u00be\\u00d0\\u00be\\u00d0\\u00b1\\u00d1\\u0089\\u00d0\\u00b0\\u00d0\\u00b5\\u00d1\\u0082 \\u00d1\\u0082\\u00d0\\u00b5\\u00d0\\u00bb\\u00d0\\u00b5\\u00d0\\u00ba\\u00d0\\u00b0\\u00d0\\u00bd\\u00d0\\u00b0\\u00d0\\u00bb NHK \\u00d1\\u0081\\u00d0\\u00be \\u00d1\\u0081\\u00d1\\u0081\\u00d1\\u008b\\u00d0\\u00bb\\u00d0\\u00ba\\u00d0\\u00be\\u00d0\\u00b9 \\u00d0\\u00bd\\u00d0\\u00b0 \\u00d0\\u00b8\\u00d1\\u0081\\u00d1\\u0082\\u00d0\\u00be\\u00d1\\u0087\\u00d0\\u00bd\\u00d0\\u00b8\\u00d0\\u00ba\\u00d0\\u00b8. \\n\\u00d0\\u0092 \\u00d0\\u00b8\\u00d1\\u008e\\u00d0\\u00bd\\u00d0\\u00b5 \\u00d0\\u00b5\\u00d0\\u00bc\\u00d1\\u0083 \\u00d0\\u00b1\\u00d1\\u008b\\u00d0\\u00bb \\u00d0\\u00b2\\u00d0\\u00b6\\u00d0\\u00b8\\u00d0\\u00b2\\u00d0\\u00bb\\u00d1\\u0091\\u00d0\\u00bd \\u00d0\\u00ba\\u00d0\\u00b0\\u00d1\\u0080\\u00d0\\u00b4\\u00d0\\u00b8\\u00d0\\u00be\\u00d1\\u0081\\u00d1\\u0082\\u00d0\\u00b8\\u00d0\\u00bc\\u00d1\\u0083\\u00d0\\u00bb\\u00d1\\u008f\\u00d1\\u0082\\u00d0\\u00be\\u00d1\\u0080, \\u00d0\\u00be\\u00d0\\u00b4\\u00d0\\u00bd\\u00d0\\u00b0\\u00d0\\u00ba\\u00d0\\u00be \\u00d0\\u00be\\u00d0\\u00bd \\u00d1\\u0082\\u00d0\\u00b0\\u00d0\\u00ba \\u00d0\\u00b8 \\u00d0\\u00bd\\u00d0\\u00b5 \\u00d0\\u00bf\\u00d0\\u00be\\u00d0\\u00ba\\u00d0\\u00b8\\u00d0\\u00bd\\u00d1\\u0083\\u00d0\\u00bb \\u00d0\\u00b3\\u00d0\\u00be\\u00d1\\u0081\\u00d0\\u00bf\\u00d0\\u00b8\\u00d1\\u0082\\u00d0\\u00b0\\u00d0\\u00bb\\u00d1\\u008c \\u00d0\\u00b2\\u00d0\\u00bf\\u00d0\\u00bb\\u00d0\\u00be\\u00d1\\u0082\\u00d1\\u008c \\u00d0\\u00b4\\u00d0\\u00be \\u00d1\\u0081\\u00d0\\u00b2\\u00d0\\u00be\\u00d0\\u00b5\\u00d0\\u00b9 \\u00d1\\u0081\\u00d0\\u00bc\\u00d0\\u00b5\\u00d1\\u0080\\u00d1\\u0082\\u00d0\\u00b8 \\u00d1\\u0083\\u00d1\\u0082\\u00d1\\u0080\\u00d0\\u00be\\u00d0\\u00bc 27 \\u00d0\\u00be\\u00d0\\u00ba\\u00d1\\u0082\\u00d1\\u008f\\u00d0\\u00b1\\u00d1\\u0080\\u00d1\\u008f. \\n\\u00d0\\u009c\\u00d0\\u00b8\\u00d0\\u00ba\\u00d0\\u00b0\\u00d1\\u0081\\u00d0\\u00b0, \\u00d0\\u00bf\\u00d1\\u008f\\u00d1\\u0082\\u00d1\\u008b\\u00d0\\u00b9 \\u00d0\\u00b2 \\u00d0\\u00bb\\u00d0\\u00b8\\u00d0\\u00bd\\u00d0\\u00b8\\u00d0\\u00b8 \\u00d0\\u00bd\\u00d0\\u00b0\\u00d1\\u0081\\u00d0\\u00bb\\u00d0\\u00b5\\u00d0\\u00b4\\u00d0\\u00be\\u00d0\\u00b2\\u00d0\\u00b0\\u00d0\\u00bd\\u00d0\\u00b8\\u00d1\\u008f \\u00d1\\u008f\\u00d0\\u00bf\\u00d0\\u00be\\u00d0\\u00bd\\u00d1\\u0081\\u00d0\\u00ba\\u00d0\\u00be\\u00d0\\u00b3\\u00d0\\u00be \\u00d0\\u00bf\\u00d1\\u0080\\u00d0\\u00b5\\u00d1\\u0081\\u00d1\\u0082\\u00d0\\u00be\\u00d0\\u00bb\\u00d0\\u00b0, \\u00d0\\u00b1\\u00d1\\u008b\\u00d0\\u00bb \\u00d0\\u00bf\\u00d0\\u00be\\u00d1\\u0081\\u00d0\\u00bb\\u00d0\\u00b5\\u00d0\\u00b4\\u00d0\\u00bd\\u00d0\\u00b8\\u00d0\\u00bc \\u00d0\\u00b6\\u00d0\\u00b8\\u00d0\\u00b2\\u00d1\\u0083\\u00d1\\u0089\\u00d0\\u00b8\\u00d0\\u00bc \\u00d1\\u0087\\u00d0\\u00bb\\u00d0\\u00b5\\u00d0\\u00bd\\u00d0\\u00be\\u00d0\\u00bc \\u00d1\\u008f\\u00d0\\u00bf\\u00d0\\u00be\\u00d0\\u00bd\\u00d1\\u0081\\u00d0\\u00ba\\u00d0\\u00be\\u00d0\\u00b9 \\u00d0\\u00b8\\u00d0\\u00bc\\u00d0\\u00bf\\u00d0\\u00b5\\u00d1\\u0080\\u00d0\\u00b0\\u00d1\\u0082\\u00d0\\u00be\\u00d1\\u0080\\u00d1\\u0081\\u00d0\\u00ba\\u00d0\\u00be\\u00d0\\u00b9 \\u00d1\\u0081\\u00d0\\u00b5\\u00d0\\u00bc\\u00d1\\u008c\\u00d0\\u00b8, \\u00d0\\u00bf\\u00d1\\u0080\\u00d0\\u00b8\\u00d0\\u00bd\\u00d0\\u00b8\\u00d0\\u00bc\\u00d0\\u00b0\\u00d0\\u00b2\\u00d1\\u0088\\u00d0\\u00b8\\u00d0\\u00bc \\u00d1\\u0083\\u00d1\\u0087\\u00d0\\u00b0\\u00d1\\u0081\\u00d1\\u0082\\u00d0\\u00b8\\u00d0\\u00b5 \\u00d0\\u00b2\\u00d0\\u00be \\u00d0\\u0092\\u00d1\\u0082\\u00d0\\u00be\\u00d1\\u0080\\u00d0\\u00be\\u00d0\\u00b9 \\u00d0\\u00bc\\u00d0\\u00b8\\u00d1\\u0080\\u00d0\\u00be\\u00d0\\u00b2\\u00d0\\u00be\\u00d0\\u00b9 \\u00d0\\u00b2\\u00d0\\u00be\\u00d0\\u00b9\\u00d0\\u00bd\\u00d0\\u00b5. \\u00d0\\u009f\\u00d0\\u00be\\u00d1\\u0081\\u00d0\\u00bb\\u00d0\\u00b5 \\u00d0\\u00b2\\u00d0\\u00be\\u00d0\\u00b9\\u00d0\\u00bd\\u00d1\\u008b \\u00d0\\u00bf\\u00d0\\u00be\\u00d1\\u0081\\u00d0\\u00b2\\u00d1\\u008f\\u00d1\\u0082\\u00d0\\u00b8\\u00d0\\u00bb \\u00d1\\u0081\\u00d0\\u00b5\\u00d0\\u00b1\\u00d1\\u008f \\u00d0\\u00b8\\u00d0\\u00b7\\u00d1\\u0083\\u00d1\\u0087\\u00d0\\u00b5\\u00d0\\u00bd\\u00d0\\u00b8\\u00d1\\u008e \\u00d1\\u0081\\u00d0\\u00b5\\u00d0\\u00bc\\u00d0\\u00b8\\u00d1\\u0082\\u00d1\\u0081\\u00d0\\u00ba\\u00d0\\u00b8\\u00d1\\u0085 \\u00d1\\u008f\\u00d0\\u00b7\\u00d1\\u008b\\u00d0\\u00ba\\u00d0\\u00be\\u00d0\\u00b2.  \"\n        ],\n        \"semantic_type\": \"\",\n        \"description\": \"\"\n      }\n    },\n    {\n      \"column\": \"label\",\n      \"properties\": {\n        \"dtype\": \"category\",\n        \"num_unique_values\": 15,\n        \"samples\": [\n          \" \\u00e2\\u0080\\u00a6\\u00e2\\u0080\\u009d \",\n          \" as Jews are not exceptional in that regard. It would seem that the advantage has to just do with general intelligence. \",\n          \"1\"\n        ],\n        \"semantic_type\": \"\",\n        \"description\": \"\"\n      }\n    }\n  ]\n}"
            }
          },
          "metadata": {},
          "execution_count": 42
        }
      ]
    },
    {
      "cell_type": "code",
      "source": [
        "# counting the number of missing value in the dataset\n",
        "news_dataset.isnull().sum()"
      ],
      "metadata": {
        "colab": {
          "base_uri": "https://localhost:8080/"
        },
        "id": "p6_nk5XJKHKS",
        "outputId": "fd1a2a49-a8a2-4fad-f872-15779935d651"
      },
      "execution_count": 43,
      "outputs": [
        {
          "output_type": "execute_result",
          "data": {
            "text/plain": [
              "id           0\n",
              "title      949\n",
              "author    3192\n",
              "text       192\n",
              "label      148\n",
              "dtype: int64"
            ]
          },
          "metadata": {},
          "execution_count": 43
        }
      ]
    },
    {
      "cell_type": "code",
      "source": [
        "# replacing the null values with empty string\n",
        "news_dataset=news_dataset.fillna('')"
      ],
      "metadata": {
        "id": "gjudj1vyM472"
      },
      "execution_count": 44,
      "outputs": []
    },
    {
      "cell_type": "code",
      "source": [
        " # merging the author name and news title\n",
        " news_dataset['content']=news_dataset['author']+' '+news_dataset['title']"
      ],
      "metadata": {
        "id": "Zd2R72P2NbK5"
      },
      "execution_count": 45,
      "outputs": []
    },
    {
      "cell_type": "code",
      "source": [
        "print(news_dataset['content'])"
      ],
      "metadata": {
        "colab": {
          "base_uri": "https://localhost:8080/"
        },
        "id": "jugPehX3N_tc",
        "outputId": "b8b535a2-7295-4b94-eaad-81f1a60863da"
      },
      "execution_count": 46,
      "outputs": [
        {
          "output_type": "stream",
          "name": "stdout",
          "text": [
            "0        Darrell Lucus House Dem Aide: We Didnât Even...\n",
            "1        Daniel J. Flynn FLYNN: Hillary Clinton, Big Wo...\n",
            "2        Consortiumnews.com Why the Truth Might Get You...\n",
            "3        Jessica Purkiss 15 Civilians Killed In Single ...\n",
            "4        Howard Portnoy Iranian woman jailed for fictio...\n",
            "                               ...                        \n",
            "32944    Jerome Hudson Rapper T.I.: Trump a âPoster C...\n",
            "32945    Benjamin Hoffman N.F.L. Playoffs: Schedule, Ma...\n",
            "32946    Michael J. de la Merced and Rachel Abrams Macy...\n",
            "32947    Alex Ansary NATO, Russia To Hold Parallel Exer...\n",
            "32948              David Swanson What Keeps the F-35 Alive\n",
            "Name: content, Length: 32949, dtype: object\n"
          ]
        }
      ]
    },
    {
      "cell_type": "code",
      "source": [
        "# Separating the data and label\n",
        "X=news_dataset.drop(columns='label',axis=1)\n",
        "Y=news_dataset['label']"
      ],
      "metadata": {
        "id": "wL7HK17rUCRF"
      },
      "execution_count": 47,
      "outputs": []
    },
    {
      "cell_type": "code",
      "source": [
        "print(X)"
      ],
      "metadata": {
        "colab": {
          "base_uri": "https://localhost:8080/"
        },
        "id": "WNJaojl_UrVv",
        "outputId": "5b6a06f4-5b97-4c04-db90-72db29015cd3"
      },
      "execution_count": 48,
      "outputs": [
        {
          "output_type": "stream",
          "name": "stdout",
          "text": [
            "          id                                              title  \\\n",
            "0          0  House Dem Aide: We Didnât Even See Comeyâs...   \n",
            "1          1  FLYNN: Hillary Clinton, Big Woman on Campus - ...   \n",
            "2          2                  Why the Truth Might Get You Fired   \n",
            "3          3  15 Civilians Killed In Single US Airstrike Hav...   \n",
            "4          4  Iranian woman jailed for fictional unpublished...   \n",
            "...      ...                                                ...   \n",
            "32944  20795  Rapper T.I.: Trump a âPoster Child For White...   \n",
            "32945  20796  N.F.L. Playoffs: Schedule, Matchups and Odds -...   \n",
            "32946  20797  Macyâs Is Said to Receive Takeover Approach ...   \n",
            "32947  20798  NATO, Russia To Hold Parallel Exercises In Bal...   \n",
            "32948  20799                          What Keeps the F-35 Alive   \n",
            "\n",
            "                                          author  \\\n",
            "0                                  Darrell Lucus   \n",
            "1                                Daniel J. Flynn   \n",
            "2                             Consortiumnews.com   \n",
            "3                                Jessica Purkiss   \n",
            "4                                 Howard Portnoy   \n",
            "...                                          ...   \n",
            "32944                              Jerome Hudson   \n",
            "32945                           Benjamin Hoffman   \n",
            "32946  Michael J. de la Merced and Rachel Abrams   \n",
            "32947                                Alex Ansary   \n",
            "32948                              David Swanson   \n",
            "\n",
            "                                                    text  \\\n",
            "0      House Dem Aide: We Didnât Even See Comeyâs...   \n",
            "1      Ever get the feeling your life circles the rou...   \n",
            "2      Why the Truth Might Get You Fired October 29, ...   \n",
            "3      Videos 15 Civilians Killed In Single US Airstr...   \n",
            "4      Print \\nAn Iranian woman has been sentenced to...   \n",
            "...                                                  ...   \n",
            "32944  Rapper T. I. unloaded on black celebrities who...   \n",
            "32945  When the Green Bay Packers lost to the Washing...   \n",
            "32946  The Macyâs of today grew from the union of s...   \n",
            "32947  NATO, Russia To Hold Parallel Exercises In Bal...   \n",
            "32948    David Swanson is an author, activist, journa...   \n",
            "\n",
            "                                                 content  \n",
            "0      Darrell Lucus House Dem Aide: We Didnât Even...  \n",
            "1      Daniel J. Flynn FLYNN: Hillary Clinton, Big Wo...  \n",
            "2      Consortiumnews.com Why the Truth Might Get You...  \n",
            "3      Jessica Purkiss 15 Civilians Killed In Single ...  \n",
            "4      Howard Portnoy Iranian woman jailed for fictio...  \n",
            "...                                                  ...  \n",
            "32944  Jerome Hudson Rapper T.I.: Trump a âPoster C...  \n",
            "32945  Benjamin Hoffman N.F.L. Playoffs: Schedule, Ma...  \n",
            "32946  Michael J. de la Merced and Rachel Abrams Macy...  \n",
            "32947  Alex Ansary NATO, Russia To Hold Parallel Exer...  \n",
            "32948            David Swanson What Keeps the F-35 Alive  \n",
            "\n",
            "[32949 rows x 5 columns]\n"
          ]
        }
      ]
    },
    {
      "cell_type": "code",
      "source": [
        "print(Y)"
      ],
      "metadata": {
        "colab": {
          "base_uri": "https://localhost:8080/"
        },
        "id": "KKUcf4IiU21C",
        "outputId": "a0bcdecf-fcbc-43d6-e7ca-1a5c07a9df9c"
      },
      "execution_count": 49,
      "outputs": [
        {
          "output_type": "stream",
          "name": "stdout",
          "text": [
            "0        1\n",
            "1        0\n",
            "2        1\n",
            "3        1\n",
            "4        1\n",
            "        ..\n",
            "32944    0\n",
            "32945    0\n",
            "32946    0\n",
            "32947    1\n",
            "32948    1\n",
            "Name: label, Length: 32949, dtype: object\n"
          ]
        }
      ]
    },
    {
      "cell_type": "markdown",
      "source": [
        "Stemming:\n",
        "Stemming is the process of reducing a word to its Root word\n",
        "example\n",
        "actor,actress,acting -----> act"
      ],
      "metadata": {
        "id": "4vF09f8gVFBS"
      }
    },
    {
      "cell_type": "code",
      "source": [
        "port_stem=PorterStemmer()"
      ],
      "metadata": {
        "id": "pAs4kS75U5MD"
      },
      "execution_count": 50,
      "outputs": []
    },
    {
      "cell_type": "code",
      "source": [
        "def stemming(content):\n",
        "  stemmed_content=re.sub('[^a-zA-Z]',' ',content)\n",
        "  stemmed_content=stemmed_content.lower()\n",
        "  stemmed_content=stemmed_content.split()\n",
        "  stemmed_content=[port_stem.stem(word) for word in stemmed_content if not word in stopwords.words('english')]\n",
        "  stemmed_content=' '.join(stemmed_content)\n",
        "  return stemmed_content"
      ],
      "metadata": {
        "id": "N6XquWYFVqTh"
      },
      "execution_count": 57,
      "outputs": []
    },
    {
      "cell_type": "code",
      "source": [
        "news_dataset"
      ],
      "metadata": {
        "colab": {
          "base_uri": "https://localhost:8080/",
          "height": 771
        },
        "id": "xZkdLjM-a1jD",
        "outputId": "ad824d87-cd36-447b-d8da-90fef07fca1f"
      },
      "execution_count": 54,
      "outputs": [
        {
          "output_type": "execute_result",
          "data": {
            "text/plain": [
              "          id                                              title  \\\n",
              "0          0  House Dem Aide: We Didnât Even See Comeyâs...   \n",
              "1          1  FLYNN: Hillary Clinton, Big Woman on Campus - ...   \n",
              "2          2                  Why the Truth Might Get You Fired   \n",
              "3          3  15 Civilians Killed In Single US Airstrike Hav...   \n",
              "4          4  Iranian woman jailed for fictional unpublished...   \n",
              "...      ...                                                ...   \n",
              "32944  20795  Rapper T.I.: Trump a âPoster Child For White...   \n",
              "32945  20796  N.F.L. Playoffs: Schedule, Matchups and Odds -...   \n",
              "32946  20797  Macyâs Is Said to Receive Takeover Approach ...   \n",
              "32947  20798  NATO, Russia To Hold Parallel Exercises In Bal...   \n",
              "32948  20799                          What Keeps the F-35 Alive   \n",
              "\n",
              "                                          author  \\\n",
              "0                                  Darrell Lucus   \n",
              "1                                Daniel J. Flynn   \n",
              "2                             Consortiumnews.com   \n",
              "3                                Jessica Purkiss   \n",
              "4                                 Howard Portnoy   \n",
              "...                                          ...   \n",
              "32944                              Jerome Hudson   \n",
              "32945                           Benjamin Hoffman   \n",
              "32946  Michael J. de la Merced and Rachel Abrams   \n",
              "32947                                Alex Ansary   \n",
              "32948                              David Swanson   \n",
              "\n",
              "                                                    text label  \\\n",
              "0      House Dem Aide: We Didnât Even See Comeyâs...     1   \n",
              "1      Ever get the feeling your life circles the rou...     0   \n",
              "2      Why the Truth Might Get You Fired October 29, ...     1   \n",
              "3      Videos 15 Civilians Killed In Single US Airstr...     1   \n",
              "4      Print \\nAn Iranian woman has been sentenced to...     1   \n",
              "...                                                  ...   ...   \n",
              "32944  Rapper T. I. unloaded on black celebrities who...     0   \n",
              "32945  When the Green Bay Packers lost to the Washing...     0   \n",
              "32946  The Macyâs of today grew from the union of s...     0   \n",
              "32947  NATO, Russia To Hold Parallel Exercises In Bal...     1   \n",
              "32948    David Swanson is an author, activist, journa...     1   \n",
              "\n",
              "                                                 content  \n",
              "0      Darrell Lucus House Dem Aide: We Didnât Even...  \n",
              "1      Daniel J. Flynn FLYNN: Hillary Clinton, Big Wo...  \n",
              "2      Consortiumnews.com Why the Truth Might Get You...  \n",
              "3      Jessica Purkiss 15 Civilians Killed In Single ...  \n",
              "4      Howard Portnoy Iranian woman jailed for fictio...  \n",
              "...                                                  ...  \n",
              "32944  Jerome Hudson Rapper T.I.: Trump a âPoster C...  \n",
              "32945  Benjamin Hoffman N.F.L. Playoffs: Schedule, Ma...  \n",
              "32946  Michael J. de la Merced and Rachel Abrams Macy...  \n",
              "32947  Alex Ansary NATO, Russia To Hold Parallel Exer...  \n",
              "32948            David Swanson What Keeps the F-35 Alive  \n",
              "\n",
              "[32949 rows x 6 columns]"
            ],
            "text/html": [
              "\n",
              "  <div id=\"df-cdbf32f9-398f-475c-829e-1e86bff16d54\" class=\"colab-df-container\">\n",
              "    <div>\n",
              "<style scoped>\n",
              "    .dataframe tbody tr th:only-of-type {\n",
              "        vertical-align: middle;\n",
              "    }\n",
              "\n",
              "    .dataframe tbody tr th {\n",
              "        vertical-align: top;\n",
              "    }\n",
              "\n",
              "    .dataframe thead th {\n",
              "        text-align: right;\n",
              "    }\n",
              "</style>\n",
              "<table border=\"1\" class=\"dataframe\">\n",
              "  <thead>\n",
              "    <tr style=\"text-align: right;\">\n",
              "      <th></th>\n",
              "      <th>id</th>\n",
              "      <th>title</th>\n",
              "      <th>author</th>\n",
              "      <th>text</th>\n",
              "      <th>label</th>\n",
              "      <th>content</th>\n",
              "    </tr>\n",
              "  </thead>\n",
              "  <tbody>\n",
              "    <tr>\n",
              "      <th>0</th>\n",
              "      <td>0</td>\n",
              "      <td>House Dem Aide: We Didnât Even See Comeyâs...</td>\n",
              "      <td>Darrell Lucus</td>\n",
              "      <td>House Dem Aide: We Didnât Even See Comeyâs...</td>\n",
              "      <td>1</td>\n",
              "      <td>Darrell Lucus House Dem Aide: We Didnât Even...</td>\n",
              "    </tr>\n",
              "    <tr>\n",
              "      <th>1</th>\n",
              "      <td>1</td>\n",
              "      <td>FLYNN: Hillary Clinton, Big Woman on Campus - ...</td>\n",
              "      <td>Daniel J. Flynn</td>\n",
              "      <td>Ever get the feeling your life circles the rou...</td>\n",
              "      <td>0</td>\n",
              "      <td>Daniel J. Flynn FLYNN: Hillary Clinton, Big Wo...</td>\n",
              "    </tr>\n",
              "    <tr>\n",
              "      <th>2</th>\n",
              "      <td>2</td>\n",
              "      <td>Why the Truth Might Get You Fired</td>\n",
              "      <td>Consortiumnews.com</td>\n",
              "      <td>Why the Truth Might Get You Fired October 29, ...</td>\n",
              "      <td>1</td>\n",
              "      <td>Consortiumnews.com Why the Truth Might Get You...</td>\n",
              "    </tr>\n",
              "    <tr>\n",
              "      <th>3</th>\n",
              "      <td>3</td>\n",
              "      <td>15 Civilians Killed In Single US Airstrike Hav...</td>\n",
              "      <td>Jessica Purkiss</td>\n",
              "      <td>Videos 15 Civilians Killed In Single US Airstr...</td>\n",
              "      <td>1</td>\n",
              "      <td>Jessica Purkiss 15 Civilians Killed In Single ...</td>\n",
              "    </tr>\n",
              "    <tr>\n",
              "      <th>4</th>\n",
              "      <td>4</td>\n",
              "      <td>Iranian woman jailed for fictional unpublished...</td>\n",
              "      <td>Howard Portnoy</td>\n",
              "      <td>Print \\nAn Iranian woman has been sentenced to...</td>\n",
              "      <td>1</td>\n",
              "      <td>Howard Portnoy Iranian woman jailed for fictio...</td>\n",
              "    </tr>\n",
              "    <tr>\n",
              "      <th>...</th>\n",
              "      <td>...</td>\n",
              "      <td>...</td>\n",
              "      <td>...</td>\n",
              "      <td>...</td>\n",
              "      <td>...</td>\n",
              "      <td>...</td>\n",
              "    </tr>\n",
              "    <tr>\n",
              "      <th>32944</th>\n",
              "      <td>20795</td>\n",
              "      <td>Rapper T.I.: Trump a âPoster Child For White...</td>\n",
              "      <td>Jerome Hudson</td>\n",
              "      <td>Rapper T. I. unloaded on black celebrities who...</td>\n",
              "      <td>0</td>\n",
              "      <td>Jerome Hudson Rapper T.I.: Trump a âPoster C...</td>\n",
              "    </tr>\n",
              "    <tr>\n",
              "      <th>32945</th>\n",
              "      <td>20796</td>\n",
              "      <td>N.F.L. Playoffs: Schedule, Matchups and Odds -...</td>\n",
              "      <td>Benjamin Hoffman</td>\n",
              "      <td>When the Green Bay Packers lost to the Washing...</td>\n",
              "      <td>0</td>\n",
              "      <td>Benjamin Hoffman N.F.L. Playoffs: Schedule, Ma...</td>\n",
              "    </tr>\n",
              "    <tr>\n",
              "      <th>32946</th>\n",
              "      <td>20797</td>\n",
              "      <td>Macyâs Is Said to Receive Takeover Approach ...</td>\n",
              "      <td>Michael J. de la Merced and Rachel Abrams</td>\n",
              "      <td>The Macyâs of today grew from the union of s...</td>\n",
              "      <td>0</td>\n",
              "      <td>Michael J. de la Merced and Rachel Abrams Macy...</td>\n",
              "    </tr>\n",
              "    <tr>\n",
              "      <th>32947</th>\n",
              "      <td>20798</td>\n",
              "      <td>NATO, Russia To Hold Parallel Exercises In Bal...</td>\n",
              "      <td>Alex Ansary</td>\n",
              "      <td>NATO, Russia To Hold Parallel Exercises In Bal...</td>\n",
              "      <td>1</td>\n",
              "      <td>Alex Ansary NATO, Russia To Hold Parallel Exer...</td>\n",
              "    </tr>\n",
              "    <tr>\n",
              "      <th>32948</th>\n",
              "      <td>20799</td>\n",
              "      <td>What Keeps the F-35 Alive</td>\n",
              "      <td>David Swanson</td>\n",
              "      <td>David Swanson is an author, activist, journa...</td>\n",
              "      <td>1</td>\n",
              "      <td>David Swanson What Keeps the F-35 Alive</td>\n",
              "    </tr>\n",
              "  </tbody>\n",
              "</table>\n",
              "<p>32949 rows × 6 columns</p>\n",
              "</div>\n",
              "    <div class=\"colab-df-buttons\">\n",
              "\n",
              "  <div class=\"colab-df-container\">\n",
              "    <button class=\"colab-df-convert\" onclick=\"convertToInteractive('df-cdbf32f9-398f-475c-829e-1e86bff16d54')\"\n",
              "            title=\"Convert this dataframe to an interactive table.\"\n",
              "            style=\"display:none;\">\n",
              "\n",
              "  <svg xmlns=\"http://www.w3.org/2000/svg\" height=\"24px\" viewBox=\"0 -960 960 960\">\n",
              "    <path d=\"M120-120v-720h720v720H120Zm60-500h600v-160H180v160Zm220 220h160v-160H400v160Zm0 220h160v-160H400v160ZM180-400h160v-160H180v160Zm440 0h160v-160H620v160ZM180-180h160v-160H180v160Zm440 0h160v-160H620v160Z\"/>\n",
              "  </svg>\n",
              "    </button>\n",
              "\n",
              "  <style>\n",
              "    .colab-df-container {\n",
              "      display:flex;\n",
              "      gap: 12px;\n",
              "    }\n",
              "\n",
              "    .colab-df-convert {\n",
              "      background-color: #E8F0FE;\n",
              "      border: none;\n",
              "      border-radius: 50%;\n",
              "      cursor: pointer;\n",
              "      display: none;\n",
              "      fill: #1967D2;\n",
              "      height: 32px;\n",
              "      padding: 0 0 0 0;\n",
              "      width: 32px;\n",
              "    }\n",
              "\n",
              "    .colab-df-convert:hover {\n",
              "      background-color: #E2EBFA;\n",
              "      box-shadow: 0px 1px 2px rgba(60, 64, 67, 0.3), 0px 1px 3px 1px rgba(60, 64, 67, 0.15);\n",
              "      fill: #174EA6;\n",
              "    }\n",
              "\n",
              "    .colab-df-buttons div {\n",
              "      margin-bottom: 4px;\n",
              "    }\n",
              "\n",
              "    [theme=dark] .colab-df-convert {\n",
              "      background-color: #3B4455;\n",
              "      fill: #D2E3FC;\n",
              "    }\n",
              "\n",
              "    [theme=dark] .colab-df-convert:hover {\n",
              "      background-color: #434B5C;\n",
              "      box-shadow: 0px 1px 3px 1px rgba(0, 0, 0, 0.15);\n",
              "      filter: drop-shadow(0px 1px 2px rgba(0, 0, 0, 0.3));\n",
              "      fill: #FFFFFF;\n",
              "    }\n",
              "  </style>\n",
              "\n",
              "    <script>\n",
              "      const buttonEl =\n",
              "        document.querySelector('#df-cdbf32f9-398f-475c-829e-1e86bff16d54 button.colab-df-convert');\n",
              "      buttonEl.style.display =\n",
              "        google.colab.kernel.accessAllowed ? 'block' : 'none';\n",
              "\n",
              "      async function convertToInteractive(key) {\n",
              "        const element = document.querySelector('#df-cdbf32f9-398f-475c-829e-1e86bff16d54');\n",
              "        const dataTable =\n",
              "          await google.colab.kernel.invokeFunction('convertToInteractive',\n",
              "                                                    [key], {});\n",
              "        if (!dataTable) return;\n",
              "\n",
              "        const docLinkHtml = 'Like what you see? Visit the ' +\n",
              "          '<a target=\"_blank\" href=https://colab.research.google.com/notebooks/data_table.ipynb>data table notebook</a>'\n",
              "          + ' to learn more about interactive tables.';\n",
              "        element.innerHTML = '';\n",
              "        dataTable['output_type'] = 'display_data';\n",
              "        await google.colab.output.renderOutput(dataTable, element);\n",
              "        const docLink = document.createElement('div');\n",
              "        docLink.innerHTML = docLinkHtml;\n",
              "        element.appendChild(docLink);\n",
              "      }\n",
              "    </script>\n",
              "  </div>\n",
              "\n",
              "\n",
              "<div id=\"df-cc840c8a-3f72-4e79-b5b5-cedffeaceb23\">\n",
              "  <button class=\"colab-df-quickchart\" onclick=\"quickchart('df-cc840c8a-3f72-4e79-b5b5-cedffeaceb23')\"\n",
              "            title=\"Suggest charts\"\n",
              "            style=\"display:none;\">\n",
              "\n",
              "<svg xmlns=\"http://www.w3.org/2000/svg\" height=\"24px\"viewBox=\"0 0 24 24\"\n",
              "     width=\"24px\">\n",
              "    <g>\n",
              "        <path d=\"M19 3H5c-1.1 0-2 .9-2 2v14c0 1.1.9 2 2 2h14c1.1 0 2-.9 2-2V5c0-1.1-.9-2-2-2zM9 17H7v-7h2v7zm4 0h-2V7h2v10zm4 0h-2v-4h2v4z\"/>\n",
              "    </g>\n",
              "</svg>\n",
              "  </button>\n",
              "\n",
              "<style>\n",
              "  .colab-df-quickchart {\n",
              "      --bg-color: #E8F0FE;\n",
              "      --fill-color: #1967D2;\n",
              "      --hover-bg-color: #E2EBFA;\n",
              "      --hover-fill-color: #174EA6;\n",
              "      --disabled-fill-color: #AAA;\n",
              "      --disabled-bg-color: #DDD;\n",
              "  }\n",
              "\n",
              "  [theme=dark] .colab-df-quickchart {\n",
              "      --bg-color: #3B4455;\n",
              "      --fill-color: #D2E3FC;\n",
              "      --hover-bg-color: #434B5C;\n",
              "      --hover-fill-color: #FFFFFF;\n",
              "      --disabled-bg-color: #3B4455;\n",
              "      --disabled-fill-color: #666;\n",
              "  }\n",
              "\n",
              "  .colab-df-quickchart {\n",
              "    background-color: var(--bg-color);\n",
              "    border: none;\n",
              "    border-radius: 50%;\n",
              "    cursor: pointer;\n",
              "    display: none;\n",
              "    fill: var(--fill-color);\n",
              "    height: 32px;\n",
              "    padding: 0;\n",
              "    width: 32px;\n",
              "  }\n",
              "\n",
              "  .colab-df-quickchart:hover {\n",
              "    background-color: var(--hover-bg-color);\n",
              "    box-shadow: 0 1px 2px rgba(60, 64, 67, 0.3), 0 1px 3px 1px rgba(60, 64, 67, 0.15);\n",
              "    fill: var(--button-hover-fill-color);\n",
              "  }\n",
              "\n",
              "  .colab-df-quickchart-complete:disabled,\n",
              "  .colab-df-quickchart-complete:disabled:hover {\n",
              "    background-color: var(--disabled-bg-color);\n",
              "    fill: var(--disabled-fill-color);\n",
              "    box-shadow: none;\n",
              "  }\n",
              "\n",
              "  .colab-df-spinner {\n",
              "    border: 2px solid var(--fill-color);\n",
              "    border-color: transparent;\n",
              "    border-bottom-color: var(--fill-color);\n",
              "    animation:\n",
              "      spin 1s steps(1) infinite;\n",
              "  }\n",
              "\n",
              "  @keyframes spin {\n",
              "    0% {\n",
              "      border-color: transparent;\n",
              "      border-bottom-color: var(--fill-color);\n",
              "      border-left-color: var(--fill-color);\n",
              "    }\n",
              "    20% {\n",
              "      border-color: transparent;\n",
              "      border-left-color: var(--fill-color);\n",
              "      border-top-color: var(--fill-color);\n",
              "    }\n",
              "    30% {\n",
              "      border-color: transparent;\n",
              "      border-left-color: var(--fill-color);\n",
              "      border-top-color: var(--fill-color);\n",
              "      border-right-color: var(--fill-color);\n",
              "    }\n",
              "    40% {\n",
              "      border-color: transparent;\n",
              "      border-right-color: var(--fill-color);\n",
              "      border-top-color: var(--fill-color);\n",
              "    }\n",
              "    60% {\n",
              "      border-color: transparent;\n",
              "      border-right-color: var(--fill-color);\n",
              "    }\n",
              "    80% {\n",
              "      border-color: transparent;\n",
              "      border-right-color: var(--fill-color);\n",
              "      border-bottom-color: var(--fill-color);\n",
              "    }\n",
              "    90% {\n",
              "      border-color: transparent;\n",
              "      border-bottom-color: var(--fill-color);\n",
              "    }\n",
              "  }\n",
              "</style>\n",
              "\n",
              "  <script>\n",
              "    async function quickchart(key) {\n",
              "      const quickchartButtonEl =\n",
              "        document.querySelector('#' + key + ' button');\n",
              "      quickchartButtonEl.disabled = true;  // To prevent multiple clicks.\n",
              "      quickchartButtonEl.classList.add('colab-df-spinner');\n",
              "      try {\n",
              "        const charts = await google.colab.kernel.invokeFunction(\n",
              "            'suggestCharts', [key], {});\n",
              "      } catch (error) {\n",
              "        console.error('Error during call to suggestCharts:', error);\n",
              "      }\n",
              "      quickchartButtonEl.classList.remove('colab-df-spinner');\n",
              "      quickchartButtonEl.classList.add('colab-df-quickchart-complete');\n",
              "    }\n",
              "    (() => {\n",
              "      let quickchartButtonEl =\n",
              "        document.querySelector('#df-cc840c8a-3f72-4e79-b5b5-cedffeaceb23 button');\n",
              "      quickchartButtonEl.style.display =\n",
              "        google.colab.kernel.accessAllowed ? 'block' : 'none';\n",
              "    })();\n",
              "  </script>\n",
              "</div>\n",
              "\n",
              "  <div id=\"id_2f9fdbf9-5030-43c8-a330-f4733080b38a\">\n",
              "    <style>\n",
              "      .colab-df-generate {\n",
              "        background-color: #E8F0FE;\n",
              "        border: none;\n",
              "        border-radius: 50%;\n",
              "        cursor: pointer;\n",
              "        display: none;\n",
              "        fill: #1967D2;\n",
              "        height: 32px;\n",
              "        padding: 0 0 0 0;\n",
              "        width: 32px;\n",
              "      }\n",
              "\n",
              "      .colab-df-generate:hover {\n",
              "        background-color: #E2EBFA;\n",
              "        box-shadow: 0px 1px 2px rgba(60, 64, 67, 0.3), 0px 1px 3px 1px rgba(60, 64, 67, 0.15);\n",
              "        fill: #174EA6;\n",
              "      }\n",
              "\n",
              "      [theme=dark] .colab-df-generate {\n",
              "        background-color: #3B4455;\n",
              "        fill: #D2E3FC;\n",
              "      }\n",
              "\n",
              "      [theme=dark] .colab-df-generate:hover {\n",
              "        background-color: #434B5C;\n",
              "        box-shadow: 0px 1px 3px 1px rgba(0, 0, 0, 0.15);\n",
              "        filter: drop-shadow(0px 1px 2px rgba(0, 0, 0, 0.3));\n",
              "        fill: #FFFFFF;\n",
              "      }\n",
              "    </style>\n",
              "    <button class=\"colab-df-generate\" onclick=\"generateWithVariable('news_dataset')\"\n",
              "            title=\"Generate code using this dataframe.\"\n",
              "            style=\"display:none;\">\n",
              "\n",
              "  <svg xmlns=\"http://www.w3.org/2000/svg\" height=\"24px\"viewBox=\"0 0 24 24\"\n",
              "       width=\"24px\">\n",
              "    <path d=\"M7,19H8.4L18.45,9,17,7.55,7,17.6ZM5,21V16.75L18.45,3.32a2,2,0,0,1,2.83,0l1.4,1.43a1.91,1.91,0,0,1,.58,1.4,1.91,1.91,0,0,1-.58,1.4L9.25,21ZM18.45,9,17,7.55Zm-12,3A5.31,5.31,0,0,0,4.9,8.1,5.31,5.31,0,0,0,1,6.5,5.31,5.31,0,0,0,4.9,4.9,5.31,5.31,0,0,0,6.5,1,5.31,5.31,0,0,0,8.1,4.9,5.31,5.31,0,0,0,12,6.5,5.46,5.46,0,0,0,6.5,12Z\"/>\n",
              "  </svg>\n",
              "    </button>\n",
              "    <script>\n",
              "      (() => {\n",
              "      const buttonEl =\n",
              "        document.querySelector('#id_2f9fdbf9-5030-43c8-a330-f4733080b38a button.colab-df-generate');\n",
              "      buttonEl.style.display =\n",
              "        google.colab.kernel.accessAllowed ? 'block' : 'none';\n",
              "\n",
              "      buttonEl.onclick = () => {\n",
              "        google.colab.notebook.generateWithVariable('news_dataset');\n",
              "      }\n",
              "      })();\n",
              "    </script>\n",
              "  </div>\n",
              "\n",
              "    </div>\n",
              "  </div>\n"
            ],
            "application/vnd.google.colaboratory.intrinsic+json": {
              "type": "dataframe",
              "variable_name": "news_dataset",
              "summary": "{\n  \"name\": \"news_dataset\",\n  \"rows\": 32949,\n  \"fields\": [\n    {\n      \"column\": \"id\",\n      \"properties\": {\n        \"dtype\": \"string\",\n        \"num_unique_values\": 20957,\n        \"samples\": [\n          \"16750\",\n          \"9394\",\n          \"14417\"\n        ],\n        \"semantic_type\": \"\",\n        \"description\": \"\"\n      }\n    },\n    {\n      \"column\": \"title\",\n      \"properties\": {\n        \"dtype\": \"string\",\n        \"num_unique_values\": 19885,\n        \"samples\": [\n          \"A Big Life Change Is More Planning Than Magic - The New York Times\",\n          \"Condemning \\u00e2\\u0080\\u0098Fake News,\\u00e2\\u0080\\u0099 but Running Fake-News Ads - The New York Times\",\n          \"PressTV-UK royals in Bahrain amid crackdown\"\n        ],\n        \"semantic_type\": \"\",\n        \"description\": \"\"\n      }\n    },\n    {\n      \"column\": \"author\",\n      \"properties\": {\n        \"dtype\": \"category\",\n        \"num_unique_values\": 4244,\n        \"samples\": [\n          \"Lisa W. Foderaro\",\n          \"thilliker2\",\n          \"Hannah Seligson\"\n        ],\n        \"semantic_type\": \"\",\n        \"description\": \"\"\n      }\n    },\n    {\n      \"column\": \"text\",\n      \"properties\": {\n        \"dtype\": \"string\",\n        \"num_unique_values\": 20468,\n        \"samples\": [\n          \"A federal judge blocked  \\u00e2\\u0080\\u0094   shortly before it was to take effect  \\u00e2\\u0080\\u0094   a Mississippi law that would have given special protections to those who opposed   marriage. In a   ruling, Judge Carlton W. Reeves of Federal District Court said the law created \\u00e2\\u0080\\u009ca vehicle for   discrimination on the basis of sexual orientation and gender identity. \\u00e2\\u0080\\u009d By setting aside particular beliefs for protection as opposed to religious convictions in general, the law unconstitutionally \\u00e2\\u0080\\u009cput its thumb on the scale to favor some religious beliefs over others. \\u00e2\\u0080\\u009d He concluded by issuing a preliminary injunction preventing the law from taking effect. Rob McDuff, a lawyer who argued against the law along with the Mississippi Center for Justice, said in a statement that \\u00e2\\u0080\\u009cthe federal court\\u00e2\\u0080\\u0099s decision recognizes that religious freedom can be preserved along with equal rights for all people regardless of race, religion, or sexual orientation. \\u00e2\\u0080\\u009d Some of Mississippi\\u00e2\\u0080\\u0099s political leaders, who had staunchly defended the law, pledged to appeal. \\u00e2\\u0080\\u009cThe law simply provides religious accommodations granted by many other states and federal law,\\u00e2\\u0080\\u009d Gov. Phil Bryant, a Republican, said in a statement. \\u00e2\\u0080\\u009cI am disappointed Judge Reeves did not recognize that reality. I look forward to an aggressive appeal. \\u00e2\\u0080\\u009d But not all the officials who were named defendants in the lawsuits agreed. Jim Hood, the state attorney general, a Democrat, said in a statement he would have to \\u00e2\\u0080\\u009cthink long and hard about spending taxpayer money\\u00e2\\u0080\\u009d on an appeal, given the likely costs and the strength of the ruling. He said \\u00e2\\u0080\\u009cthe churchgoing public was duped\\u00e2\\u0080\\u009d into believing that the law protected religious freedoms. \\u00e2\\u0080\\u009cI hate to see politicians continue to prey on people who pray, go to church, follow the law and help their fellow man. \\u00e2\\u0080\\u009d Though state legislatures across the country considered laws this year to explicitly protect those who object to   marriage, Mississippi\\u00e2\\u0080\\u0099s law, known as H. B. 1523, was the most definitive one to pass, according to the Human Rights Campaign, a gay rights group. The measure, which would have taken effect at 12:01 a. m. on Friday, is not a version of a traditional religious freedom act, which gives legal backing to those who argue that a given law infringes on their beliefs. Mississippi already has such a law on the books. Instead, it would create an array of protections specifically for those who believe that marriage is only for   couples, that sexual relations are reserved for marriage and that gender identity is determined immutably by anatomy at birth. Under the law, those who act according to these beliefs in foster care, counseling, school administration, facility rentals and wedding services would have been fully shielded from a host of potential government actions involving such things as hiring or firing decisions, fees or the issuing of state contracts. The law would have also allowed court clerks to refuse to grant wedding licenses to   couples as long as accommodations were made for the applicants to receive their licenses anyway. Judge Reeves struck down that element in a separate ruling on Monday, saying that while state officials were free to disagree, the Supreme Court ruling on   marriage is the law of the land. In a footnote in his ruling on Thursday night  \\u00e2\\u0080\\u0094   Judge Reeves, who was appointed by President Obama and is the second   federal judge in Mississippi  \\u00e2\\u0080\\u0094   compared Mr. Bryant\\u00e2\\u0080\\u0099s remarks on a state\\u00e2\\u0080\\u0099s \\u00e2\\u0080\\u009cright to  \\u00e2\\u0080\\u009d when it comes to gay marriage to former Gov. Ross Barnett\\u00e2\\u0080\\u0099s 1962 speech before the Legislature in which he invoked states\\u00e2\\u0080\\u0099 rights to oppose the integration of the University of Mississippi. Mississippi\\u00e2\\u0080\\u0099s law was condemned by civil rights activists, business groups and a number of the state\\u00e2\\u0080\\u0099s mayors, particularly along the   Gulf Coast. But given its lack of Fortune 500 headquarters and its uncontested conservative political landscape, Mississippi did not face the same broad backlash as North Carolina did after passing a law restricting bathroom access for transgender people. There have been multiple legal challenges with a wide array of plaintiffs: gay and straight, transgender and not. Lawyers in the case, which arose from suits filed by the Mississippi Center for Justice and the Campaign for Southern Equality, argued that the law was motivated by animus toward gay and transgender people and that it unconstitutionally endorsed and provided exclusive protection for \\u00e2\\u0080\\u009ccertain narrow religious beliefs. \\u00e2\\u0080\\u009d Lawyers for the state responded that the law did not affect the rights of gay or transgender people and that it would not favor a particular religious doctrine any more than conscientious objector laws do. \\u00e2\\u0080\\u009cProtection of free conscience and the free exercise of religion are legitimate and compelling governmental interests,\\u00e2\\u0080\\u009d lawyers for the state said in a motion. It is reasonable to protect the convictions outlined in the law, they continued, \\u00e2\\u0080\\u009ceven though plaintiffs disagree with those beliefs and find them \\u00e2\\u0080\\u0098offensive.\\u00e2\\u0080\\u0099 \\u00e2\\u0080\\u009d But Judge Reeves countered that there were already laws in Mississippi that protect religious beliefs from government interference. The difference, he said, is that those laws protect all beliefs and not specific ones, which the judge ruled would violate the First Amendment\\u00e2\\u0080\\u0099s establishment clause. \\u00e2\\u0080\\u009cIf three specific beliefs are \\u00e2\\u0080\\u0098protected by this act,\\u00e2\\u0080\\u0099 it follows that every other religious belief a citizen holds is not protected by the act,\\u00e2\\u0080\\u009d he wrote, saying that Christians who hold different views would \\u00e2\\u0080\\u009cbecome   Christians\\u00e2\\u0080\\u009d in Mississippi. Judge Reeves also said the law would establish \\u00e2\\u0080\\u009ca   system by which L. G. B. T. persons and unmarried persons can be subjected to differential treatment based solely on their status. \\u00e2\\u0080\\u009d\",\n          \"Trump supporter gets revenge on lawn-sign vandal in the absolutely best way possible Posted at 5:00 pm on October 28, 2016 by Greg P. Share on Facebook Share on Twitter \\nJustice was served on a guy who thought it would be funny to drive over these Trump lawn signs, except these particular signs fought back. That\\u00e2\\u0080\\u0099s right, whoever put these signs on their lawn also added a wooden board with nails in front of the signs to get even with the unsuspecting vandals. \\nCheck it out: \\n\\u00e2\\u0080\\u0094 Black Women 4 Trump (@TallahForTrump) October 28, 2016 \\nHere are the 3 photos broken out of that tweet. The crime\\u00e2\\u0080\\u00a6 Trending\",\n          \"Trump on Dropping \\u00e2\\u0080\\u0099MOAB\\u00e2\\u0080\\u0099 in Afghanistan: \\u00e2\\u0080\\u0099Don\\u00e2\\u0080\\u0099t Know\\u00e2\\u0080\\u0099 If It Sends Message to N. Korea https:  .  pic. twitter.  In remarks given to the media on Thursday, President Donald Trump said he did not know whether or not if the use of the \\u00e2\\u0080\\u009cmother of all bombs\\u00e2\\u0080\\u009d on an ISIS stronghold in Afghanistan would send a message to North Korea.  He added, however, North Korea would be \\u00e2\\u0080\\u009ctaken care of\\u00e2\\u0080\\u009d and emphasized his relationship with Chinese President Xi Jinping. President Donald Trump said Thursday that he does not know whether the U. S. military\\u00e2\\u0080\\u0099s use of the   \\u00e2\\u0080\\u009cmother of all bombs\\u00e2\\u0080\\u009d in Afghanistan will send a message to North Korea, but he said \\u00e2\\u0080\\u009cthe problem\\u00e2\\u0080\\u009d with that country \\u00e2\\u0080\\u009cwill be taken care of,\\u00e2\\u0080\\u009d regardless. \\u00e2\\u0080\\u009cI don\\u00e2\\u0080\\u0099t know if this sends a message,\\u00e2\\u0080\\u009d he replied. \\u00e2\\u0080\\u009cIt doesn\\u00e2\\u0080\\u0099t make a difference if it does or not. North Korea is a problem. It\\u00e2\\u0080\\u0099s a problem that will be taken care of. I will say this  \\u00e2\\u0080\\u0094   I think China has really been working very hard. I have really gotten to like and respect President Xi. He\\u00e2\\u0080\\u0099s a terrific person. We spent a lot of time together in Florida. And he\\u00e2\\u0080\\u0099s a very special man. So we\\u00e2\\u0080\\u0099ll see how it goes. I think he\\u00e2\\u0080\\u0099s going to try very hard. \\u00e2\\u0080\\u009d Follow Jeff Poor on Twitter @jeff_poor\"\n        ],\n        \"semantic_type\": \"\",\n        \"description\": \"\"\n      }\n    },\n    {\n      \"column\": \"label\",\n      \"properties\": {\n        \"dtype\": \"category\",\n        \"num_unique_values\": 16,\n        \"samples\": [\n          \"1\",\n          \"0\",\n          \" economic and diplomatic machinery of the US-led world empire. \"\n        ],\n        \"semantic_type\": \"\",\n        \"description\": \"\"\n      }\n    },\n    {\n      \"column\": \"content\",\n      \"properties\": {\n        \"dtype\": \"string\",\n        \"num_unique_values\": 20497,\n        \"samples\": [\n          \"King World News For People Who Are Worried About Druckenmiller Selling His Gold\\u00e2\\u0080\\u00a6\",\n          \"Richard Fausset, Campbell Robertson and Nikole Hannah-Jones On a Somber Sunday, \\u00e2\\u0080\\u0098One Nation Under God Examines Its Soul\\u00e2\\u0080\\u0099 - The New York Times\",\n          \" USA Continues Drive to Plutocracy, Dismantling of State\"\n        ],\n        \"semantic_type\": \"\",\n        \"description\": \"\"\n      }\n    }\n  ]\n}"
            }
          },
          "metadata": {},
          "execution_count": 54
        }
      ]
    },
    {
      "cell_type": "code",
      "source": [
        "news_dataset['content']=news_dataset['content'].apply(stemming)"
      ],
      "metadata": {
        "id": "1STPRbVJYxNs"
      },
      "execution_count": 58,
      "outputs": []
    },
    {
      "cell_type": "code",
      "source": [
        "print(news_dataset['content'])"
      ],
      "metadata": {
        "colab": {
          "base_uri": "https://localhost:8080/"
        },
        "id": "4OR0Q4EqavkG",
        "outputId": "f7c20731-dafe-436c-ec8f-82325e816c1c"
      },
      "execution_count": 59,
      "outputs": [
        {
          "output_type": "stream",
          "name": "stdout",
          "text": [
            "0        darrel lucu hous dem aid even see comey letter...\n",
            "1        daniel j flynn flynn hillari clinton big woman...\n",
            "2                   consortiumnew com truth might get fire\n",
            "3        jessica purkiss civilian kill singl us airstri...\n",
            "4        howard portnoy iranian woman jail fiction unpu...\n",
            "                               ...                        \n",
            "32944    jerom hudson rapper trump poster child white s...\n",
            "32945    benjamin hoffman n f l playoff schedul matchup...\n",
            "32946    michael j de la merc rachel abram maci said re...\n",
            "32947    alex ansari nato russia hold parallel exercis ...\n",
            "32948                            david swanson keep f aliv\n",
            "Name: content, Length: 32949, dtype: object\n"
          ]
        }
      ]
    },
    {
      "cell_type": "code",
      "source": [
        "# Separating the data & label\n",
        "X=news_dataset['content'].values\n",
        "Y=news_dataset['label'].values"
      ],
      "metadata": {
        "id": "TJhte4T4byKZ"
      },
      "execution_count": 68,
      "outputs": []
    },
    {
      "cell_type": "code",
      "source": [
        "print(X)\n",
        "print(Y)"
      ],
      "metadata": {
        "colab": {
          "base_uri": "https://localhost:8080/"
        },
        "id": "2I7G6FjacN_p",
        "outputId": "77e35ec0-40a2-4167-fc0e-9d5f812c5855"
      },
      "execution_count": 61,
      "outputs": [
        {
          "output_type": "stream",
          "name": "stdout",
          "text": [
            "['darrel lucu hous dem aid even see comey letter jason chaffetz tweet'\n",
            " 'daniel j flynn flynn hillari clinton big woman campu breitbart'\n",
            " 'consortiumnew com truth might get fire' ...\n",
            " 'michael j de la merc rachel abram maci said receiv takeov approach hudson bay new york time'\n",
            " 'alex ansari nato russia hold parallel exercis balkan'\n",
            " 'david swanson keep f aliv']\n",
            "['1' '0' '1' ... '0' '1' '1']\n"
          ]
        }
      ]
    },
    {
      "cell_type": "code",
      "source": [
        "Y.shape"
      ],
      "metadata": {
        "colab": {
          "base_uri": "https://localhost:8080/"
        },
        "id": "fY2xRrQucVj1",
        "outputId": "58653e25-5ddc-45b5-b94e-6658a5d6e458"
      },
      "execution_count": 63,
      "outputs": [
        {
          "output_type": "execute_result",
          "data": {
            "text/plain": [
              "(32949,)"
            ]
          },
          "metadata": {},
          "execution_count": 63
        }
      ]
    },
    {
      "cell_type": "code",
      "source": [
        "# Converting the textual data to numerical data\n",
        "#Term frequency Inverse document frequency: count the words number of times it is reapeating\n",
        "vectorizer=TfidfVectorizer()\n",
        "vectorizer.fit(X)\n",
        "\n",
        "X=vectorizer.transform(X)"
      ],
      "metadata": {
        "id": "QJGmzVKwcfp0"
      },
      "execution_count": 69,
      "outputs": []
    },
    {
      "cell_type": "code",
      "source": [
        "print(X)"
      ],
      "metadata": {
        "colab": {
          "base_uri": "https://localhost:8080/"
        },
        "id": "D7RfVqgGc8bb",
        "outputId": "97cd4137-15f6-4655-96a7-f649499b534c"
      },
      "execution_count": 70,
      "outputs": [
        {
          "output_type": "stream",
          "name": "stdout",
          "text": [
            "  (0, 15738)\t0.28391081883521274\n",
            "  (0, 13517)\t0.25631818216737756\n",
            "  (0, 8939)\t0.36831100003241907\n",
            "  (0, 8659)\t0.2924113140385708\n",
            "  (0, 7717)\t0.24666544126914805\n",
            "  (0, 7026)\t0.21738343549365183\n",
            "  (0, 4988)\t0.2320711759689065\n",
            "  (0, 3802)\t0.27021145201700636\n",
            "  (0, 3610)\t0.36300903656502076\n",
            "  (0, 2967)\t0.2469863550865947\n",
            "  (0, 2489)\t0.36300903656502076\n",
            "  (0, 267)\t0.27021145201700636\n",
            "  (1, 16857)\t0.30282942763171056\n",
            "  (1, 6837)\t0.1909234544932658\n",
            "  (1, 5521)\t0.7124554218823693\n",
            "  (1, 3578)\t0.2631670355142566\n",
            "  (1, 2821)\t0.1913808662470053\n",
            "  (1, 2229)\t0.3827363199698232\n",
            "  (1, 1899)\t0.15616838944185288\n",
            "  (1, 1502)\t0.2957882064641894\n",
            "  (2, 15663)\t0.4142311242893174\n",
            "  (2, 9652)\t0.4922170234571005\n",
            "  (2, 5986)\t0.34928382672781505\n",
            "  (2, 5406)\t0.3882287560590808\n",
            "  (2, 3111)\t0.46056252660443764\n",
            "  :\t:\n",
            "  (32946, 13166)\t0.24416289043811096\n",
            "  (32946, 12387)\t0.2729344636973869\n",
            "  (32946, 12180)\t0.24890112590665506\n",
            "  (32946, 10340)\t0.08088494443431321\n",
            "  (32946, 9620)\t0.17509172338402343\n",
            "  (32946, 9549)\t0.29504516453512414\n",
            "  (32946, 9018)\t0.3593221147164724\n",
            "  (32946, 8392)\t0.22241616115788354\n",
            "  (32946, 7063)\t0.2175649164590827\n",
            "  (32946, 3653)\t0.2103565304449325\n",
            "  (32946, 1292)\t0.33884239460046\n",
            "  (32946, 699)\t0.3066484508326656\n",
            "  (32946, 43)\t0.297099503584748\n",
            "  (32947, 13090)\t0.22323540400031516\n",
            "  (32947, 11089)\t0.4502647899425654\n",
            "  (32947, 10211)\t0.31496963556741414\n",
            "  (32947, 6910)\t0.3255940854475533\n",
            "  (32947, 5048)\t0.4052964950142674\n",
            "  (32947, 1129)\t0.4502647899425654\n",
            "  (32947, 588)\t0.30971567507491266\n",
            "  (32947, 350)\t0.28157195210267943\n",
            "  (32948, 14902)\t0.5720791051630244\n",
            "  (32948, 8062)\t0.4602515517924456\n",
            "  (32948, 3633)\t0.38002070817717415\n",
            "  (32948, 377)\t0.5625640122377524\n"
          ]
        }
      ]
    },
    {
      "cell_type": "markdown",
      "source": [
        "Splitting the dataset to training & test data"
      ],
      "metadata": {
        "id": "O_stDsg9e5BQ"
      }
    },
    {
      "cell_type": "code",
      "source": [
        "X_train,X_test,Y_train,Y_test=train_test_split(X,Y, test_size=0.2,random_state=2)"
      ],
      "metadata": {
        "id": "Frt6TAAUew-6"
      },
      "execution_count": 72,
      "outputs": []
    },
    {
      "cell_type": "markdown",
      "source": [
        "Training the Model: Logistic Regression Model"
      ],
      "metadata": {
        "id": "K3hOg39bgOx2"
      }
    },
    {
      "cell_type": "code",
      "source": [
        "model=LogisticRegression()\n",
        "model.fit(X_train,Y_train)"
      ],
      "metadata": {
        "colab": {
          "base_uri": "https://localhost:8080/",
          "height": 75
        },
        "id": "ygKw_BWufKJj",
        "outputId": "7986d9cc-7631-4b47-e724-7ccf3aaed43f"
      },
      "execution_count": 73,
      "outputs": [
        {
          "output_type": "execute_result",
          "data": {
            "text/plain": [
              "LogisticRegression()"
            ],
            "text/html": [
              "<style>#sk-container-id-1 {color: black;background-color: white;}#sk-container-id-1 pre{padding: 0;}#sk-container-id-1 div.sk-toggleable {background-color: white;}#sk-container-id-1 label.sk-toggleable__label {cursor: pointer;display: block;width: 100%;margin-bottom: 0;padding: 0.3em;box-sizing: border-box;text-align: center;}#sk-container-id-1 label.sk-toggleable__label-arrow:before {content: \"▸\";float: left;margin-right: 0.25em;color: #696969;}#sk-container-id-1 label.sk-toggleable__label-arrow:hover:before {color: black;}#sk-container-id-1 div.sk-estimator:hover label.sk-toggleable__label-arrow:before {color: black;}#sk-container-id-1 div.sk-toggleable__content {max-height: 0;max-width: 0;overflow: hidden;text-align: left;background-color: #f0f8ff;}#sk-container-id-1 div.sk-toggleable__content pre {margin: 0.2em;color: black;border-radius: 0.25em;background-color: #f0f8ff;}#sk-container-id-1 input.sk-toggleable__control:checked~div.sk-toggleable__content {max-height: 200px;max-width: 100%;overflow: auto;}#sk-container-id-1 input.sk-toggleable__control:checked~label.sk-toggleable__label-arrow:before {content: \"▾\";}#sk-container-id-1 div.sk-estimator input.sk-toggleable__control:checked~label.sk-toggleable__label {background-color: #d4ebff;}#sk-container-id-1 div.sk-label input.sk-toggleable__control:checked~label.sk-toggleable__label {background-color: #d4ebff;}#sk-container-id-1 input.sk-hidden--visually {border: 0;clip: rect(1px 1px 1px 1px);clip: rect(1px, 1px, 1px, 1px);height: 1px;margin: -1px;overflow: hidden;padding: 0;position: absolute;width: 1px;}#sk-container-id-1 div.sk-estimator {font-family: monospace;background-color: #f0f8ff;border: 1px dotted black;border-radius: 0.25em;box-sizing: border-box;margin-bottom: 0.5em;}#sk-container-id-1 div.sk-estimator:hover {background-color: #d4ebff;}#sk-container-id-1 div.sk-parallel-item::after {content: \"\";width: 100%;border-bottom: 1px solid gray;flex-grow: 1;}#sk-container-id-1 div.sk-label:hover label.sk-toggleable__label {background-color: #d4ebff;}#sk-container-id-1 div.sk-serial::before {content: \"\";position: absolute;border-left: 1px solid gray;box-sizing: border-box;top: 0;bottom: 0;left: 50%;z-index: 0;}#sk-container-id-1 div.sk-serial {display: flex;flex-direction: column;align-items: center;background-color: white;padding-right: 0.2em;padding-left: 0.2em;position: relative;}#sk-container-id-1 div.sk-item {position: relative;z-index: 1;}#sk-container-id-1 div.sk-parallel {display: flex;align-items: stretch;justify-content: center;background-color: white;position: relative;}#sk-container-id-1 div.sk-item::before, #sk-container-id-1 div.sk-parallel-item::before {content: \"\";position: absolute;border-left: 1px solid gray;box-sizing: border-box;top: 0;bottom: 0;left: 50%;z-index: -1;}#sk-container-id-1 div.sk-parallel-item {display: flex;flex-direction: column;z-index: 1;position: relative;background-color: white;}#sk-container-id-1 div.sk-parallel-item:first-child::after {align-self: flex-end;width: 50%;}#sk-container-id-1 div.sk-parallel-item:last-child::after {align-self: flex-start;width: 50%;}#sk-container-id-1 div.sk-parallel-item:only-child::after {width: 0;}#sk-container-id-1 div.sk-dashed-wrapped {border: 1px dashed gray;margin: 0 0.4em 0.5em 0.4em;box-sizing: border-box;padding-bottom: 0.4em;background-color: white;}#sk-container-id-1 div.sk-label label {font-family: monospace;font-weight: bold;display: inline-block;line-height: 1.2em;}#sk-container-id-1 div.sk-label-container {text-align: center;}#sk-container-id-1 div.sk-container {/* jupyter's `normalize.less` sets `[hidden] { display: none; }` but bootstrap.min.css set `[hidden] { display: none !important; }` so we also need the `!important` here to be able to override the default hidden behavior on the sphinx rendered scikit-learn.org. See: https://github.com/scikit-learn/scikit-learn/issues/21755 */display: inline-block !important;position: relative;}#sk-container-id-1 div.sk-text-repr-fallback {display: none;}</style><div id=\"sk-container-id-1\" class=\"sk-top-container\"><div class=\"sk-text-repr-fallback\"><pre>LogisticRegression()</pre><b>In a Jupyter environment, please rerun this cell to show the HTML representation or trust the notebook. <br />On GitHub, the HTML representation is unable to render, please try loading this page with nbviewer.org.</b></div><div class=\"sk-container\" hidden><div class=\"sk-item\"><div class=\"sk-estimator sk-toggleable\"><input class=\"sk-toggleable__control sk-hidden--visually\" id=\"sk-estimator-id-1\" type=\"checkbox\" checked><label for=\"sk-estimator-id-1\" class=\"sk-toggleable__label sk-toggleable__label-arrow\">LogisticRegression</label><div class=\"sk-toggleable__content\"><pre>LogisticRegression()</pre></div></div></div></div></div>"
            ]
          },
          "metadata": {},
          "execution_count": 73
        }
      ]
    },
    {
      "cell_type": "code",
      "source": [
        "# Evaluation\n",
        "X_train_prediction=model.predict(X_train)\n",
        "training_data_accuracy=accuracy_score(X_train_prediction,Y_train)\n",
        "print('Accuracy score on training data is : ', training_data_accuracy)"
      ],
      "metadata": {
        "colab": {
          "base_uri": "https://localhost:8080/"
        },
        "id": "wS-OnI7phQzT",
        "outputId": "72ccc30d-b499-49a4-de9d-937519fbba18"
      },
      "execution_count": 79,
      "outputs": [
        {
          "output_type": "stream",
          "name": "stdout",
          "text": [
            "Accuracy score on training data is :  0.988808376645548\n"
          ]
        }
      ]
    },
    {
      "cell_type": "code",
      "source": [
        "# Evaluation on test data\n",
        "X_test_prediction=model.predict(X_test)\n",
        "test_data_accuracy=accuracy_score(X_test_prediction,Y_test)\n",
        "print('Accuracy on test data is : ',test_data_accuracy)"
      ],
      "metadata": {
        "colab": {
          "base_uri": "https://localhost:8080/"
        },
        "id": "_2sgjWi0h3sp",
        "outputId": "a2c346a2-3b1e-44a3-a804-d8fb8e19fcc6"
      },
      "execution_count": 80,
      "outputs": [
        {
          "output_type": "stream",
          "name": "stdout",
          "text": [
            "Accuracy on test data is :  0.985432473444613\n"
          ]
        }
      ]
    },
    {
      "cell_type": "markdown",
      "source": [
        "Making a Predictive System"
      ],
      "metadata": {
        "id": "qo7AaZqMjFTb"
      }
    },
    {
      "cell_type": "code",
      "source": [
        "X_new=X_test[3]\n",
        "prediction=model.predict(X_new)\n",
        "print(prediction)\n",
        "\n",
        "if(prediction[0]==0):\n",
        "  print('The news is real')\n",
        "else:\n",
        "  print('The news is false')"
      ],
      "metadata": {
        "colab": {
          "base_uri": "https://localhost:8080/"
        },
        "id": "_0WuPm_hiygs",
        "outputId": "68fec271-8daf-4690-8de3-d23049ec97e6"
      },
      "execution_count": 83,
      "outputs": [
        {
          "output_type": "stream",
          "name": "stdout",
          "text": [
            "['1']\n",
            "The news is false\n"
          ]
        }
      ]
    },
    {
      "cell_type": "code",
      "source": [
        "print(Y_test[3])"
      ],
      "metadata": {
        "colab": {
          "base_uri": "https://localhost:8080/"
        },
        "id": "_QTePJohjSWh",
        "outputId": "a14d1784-ea70-4816-d1b9-bd343f016b3b"
      },
      "execution_count": 85,
      "outputs": [
        {
          "output_type": "stream",
          "name": "stdout",
          "text": [
            "1\n"
          ]
        }
      ]
    },
    {
      "cell_type": "code",
      "source": [],
      "metadata": {
        "id": "gCEkIiMkjrQm"
      },
      "execution_count": null,
      "outputs": []
    }
  ]
}